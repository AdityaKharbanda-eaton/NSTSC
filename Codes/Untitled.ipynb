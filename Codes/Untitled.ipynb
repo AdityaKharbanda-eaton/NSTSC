{
 "cells": [
  {
   "cell_type": "code",
   "execution_count": 1,
   "id": "14e4db5b-0d0f-40fa-83ce-011c989a02db",
   "metadata": {},
   "outputs": [],
   "source": [
    "import pandas as pd\n",
    "import os\n",
    "import numpy as np\n",
    "import matplotlib.pyplot as plt\n",
    "import seaborn"
   ]
  },
  {
   "cell_type": "code",
   "execution_count": 2,
   "id": "e3c74180-d0d8-4fc6-9d8f-c0b75cc0a005",
   "metadata": {},
   "outputs": [
    {
     "name": "stdout",
     "output_type": "stream",
     "text": [
      "(150, 615)\n"
     ]
    }
   ],
   "source": [
    "df= pd.read_csv(\"../UCRArchive_2018/KentuckyUPS/KentuckyUPS_TRAIN.tsv\", sep = '\\t', header = None)\n",
    "print(df.shape)"
   ]
  },
  {
   "cell_type": "code",
   "execution_count": null,
   "id": "b1247607-0d64-4469-8718-fa3ae3bcbc3a",
   "metadata": {},
   "outputs": [],
   "source": []
  },
  {
   "cell_type": "code",
   "execution_count": null,
   "id": "fc7ca5c1-6b96-4507-9b9f-c3d9a6e391cd",
   "metadata": {},
   "outputs": [],
   "source": [
    "!pip install matplotlib"
   ]
  },
  {
   "cell_type": "code",
   "execution_count": null,
   "id": "598b29de-77a9-4d14-b1c9-ae08ef9bde9f",
   "metadata": {},
   "outputs": [],
   "source": []
  }
 ],
 "metadata": {
  "kernelspec": {
   "display_name": "Python 3.10 - SDK v2",
   "language": "python",
   "name": "python310-sdkv2"
  },
  "language_info": {
   "codemirror_mode": {
    "name": "ipython",
    "version": 3
   },
   "file_extension": ".py",
   "mimetype": "text/x-python",
   "name": "python",
   "nbconvert_exporter": "python",
   "pygments_lexer": "ipython3",
   "version": "3.10.14"
  }
 },
 "nbformat": 4,
 "nbformat_minor": 5
}
