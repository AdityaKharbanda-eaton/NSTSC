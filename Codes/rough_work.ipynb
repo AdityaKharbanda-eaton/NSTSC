{
 "cells": [
  {
   "cell_type": "code",
   "execution_count": 1,
   "id": "6b1cb7b9",
   "metadata": {},
   "outputs": [],
   "source": [
    "import pickle"
   ]
  },
  {
   "cell_type": "code",
   "execution_count": 48,
   "id": "551ae77d",
   "metadata": {},
   "outputs": [],
   "source": [
    "file = \"BeetleFly_model.pkl\"\n",
    "with open(file, \"rb\") as f:\n",
    "    tree = pickle.load(f)"
   ]
  },
  {
   "cell_type": "code",
   "execution_count": 49,
   "id": "23f51ef2",
   "metadata": {},
   "outputs": [
    {
     "name": "stdout",
     "output_type": "stream",
     "text": [
      "Tree Type:  <class 'dict'>\n",
      "Tree Keys:  dict_keys([0, 1, 2, 3, 4])\n",
      "Tree[0] Type:  <class 'utils.train_utils.Node'>\n"
     ]
    }
   ],
   "source": [
    "print(\"Tree Type: \", type(tree))\n",
    "print(\"Tree Keys: \", tree.keys())\n",
    "print(\"Tree[0] Type: \", type(tree[0]))"
   ]
  },
  {
   "cell_type": "code",
   "execution_count": 6,
   "id": "4b7458d4",
   "metadata": {},
   "outputs": [
    {
     "name": "stdout",
     "output_type": "stream",
     "text": [
      "['Testidx', 'Xpreds', 'Xpredsupto', '__class__', '__delattr__', '__dict__', '__dir__', '__doc__', '__eq__', '__firstlineno__', '__format__', '__ge__', '__getattribute__', '__getstate__', '__gt__', '__hash__', '__init__', '__init_subclass__', '__le__', '__lt__', '__module__', '__ne__', '__new__', '__reduce__', '__reduce_ex__', '__repr__', '__setattr__', '__sizeof__', '__static_attributes__', '__str__', '__subclasshook__', '__weakref__', 'bestmodel', 'bstmdlclass', 'falseidx', 'falseidxt', 'ginis', 'idx', 'leftchd', 'predcls', 'rightchd', 'stoptrain', 'testaccuupto', 'testfalseidx', 'testidx', 'testtrueidx', 'trainidx', 'trueidx', 'trueidxt', 'ycount']\n"
     ]
    }
   ],
   "source": [
    "# to list all (including methods) attributes, you can use:\n",
    "print(dir(tree[0]))"
   ]
  },
  {
   "cell_type": "code",
   "execution_count": 50,
   "id": "955aea3e",
   "metadata": {},
   "outputs": [
    {
     "data": {
      "image/png": "[encoded data removed]",
      "text/plain": [
       "<Figure size 640x480 with 1 Axes>"
      ]
     },
     "metadata": {},
     "output_type": "display_data"
    }
   ],
   "source": [
    "import networkx as nx\n",
    "import matplotlib.pyplot as plt\n",
    "\n",
    "G = nx.DiGraph()\n",
    "\n",
    "for key, node in tree.items():\n",
    "    # Add the node with label\n",
    "    G.add_node(key, label=f'Node {key}')\n",
    "    \n",
    "    # Connect to left and right children if available\n",
    "    if hasattr(node, \"leftchd\") and node.leftchd is not None:\n",
    "        G.add_edge(key, node.leftchd, label='left')\n",
    "    \n",
    "    if hasattr(node, \"rightchd\") and node.rightchd is not None:\n",
    "        G.add_edge(key, node.rightchd, label='right')\n",
    "\n",
    "# Draw the graph\n",
    "pos = nx.spring_layout(G)\n",
    "nx.draw(G, pos, with_labels=True, node_size=700, node_color='lightblue', arrows=True)\n",
    "edge_labels = nx.get_edge_attributes(G, 'label')\n",
    "nx.draw_networkx_edge_labels(G, pos, edge_labels=edge_labels)\n",
    "\n",
    "plt.show()"
   ]
  },
  {
   "cell_type": "code",
   "execution_count": 51,
   "id": "fb9eb7c1",
   "metadata": {},
   "outputs": [
    {
     "name": "stdout",
     "output_type": "stream",
     "text": [
      "Node 0: TL_NN1() leftchd: 1 rightchd: 2\n",
      "Node 1: TL_NN1() leftchd: 3 rightchd: 4\n",
      "Node 2 precls: 1\n",
      "Node 3 precls: 0\n",
      "Node 4 precls: 1\n"
     ]
    }
   ],
   "source": [
    "for i in tree:\n",
    "    try:\n",
    "        output_parts = [f\"Node {i}: {tree[i].bestmodel}\"]\n",
    "        if hasattr(tree[i], 'leftchd') and tree[i].leftchd is not None:\n",
    "            output_parts.append(f\"leftchd: {tree[i].leftchd}\")\n",
    "        if hasattr(tree[i], 'rightchd') and tree[i].rightchd is not None:\n",
    "            output_parts.append(f\"rightchd: {tree[i].rightchd}\")\n",
    "        print(\" \".join(output_parts))\n",
    "    except AttributeError:\n",
    "        # print(f\"Node {i} does not have attribute 'bestmodel'.\")\n",
    "        print(f\"Node {i} precls: {tree[i].predcls}\")"
   ]
  },
  {
   "cell_type": "code",
   "execution_count": 52,
   "id": "428a1829",
   "metadata": {},
   "outputs": [],
   "source": [
    "state_dict = tree[0].bestmodel.state_dict\n",
    "model_data = state_dict()"
   ]
  },
  {
   "cell_type": "code",
   "execution_count": 53,
   "id": "371de198",
   "metadata": {},
   "outputs": [
    {
     "name": "stdout",
     "output_type": "stream",
     "text": [
      "odict_keys(['t1', 't1_2', 't2', 't2_2', 't3', 't3_2', 'b1', 'b1_2', 'b2', 'b2_2', 'b3', 'b3_2', 'A1', 'A2', 'A3', 'A4', 'beta1', 'beta2', 'beta3', 'beta4'])\n"
     ]
    }
   ],
   "source": [
    "# list keys\n",
    "print(model_data.keys())"
   ]
  },
  {
   "cell_type": "code",
   "execution_count": 54,
   "id": "841f2934",
   "metadata": {},
   "outputs": [
    {
     "name": "stdout",
     "output_type": "stream",
     "text": [
      "t1: Shape = (1, 512), Range = (-2.02667236328125, 1.9288578033447266)\n",
      "t2: Shape = (1, 512), Range = (-2.2294859886169434, 2.184966802597046)\n",
      "t3: Shape = (1, 512), Range = (-2.284411668777466, 2.2190403938293457)\n",
      "b1: Shape = (1, 512), Range = (-3.0688297748565674, 2.6813559532165527)\n",
      "b2: Shape = (1, 512), Range = (-3.2637929916381836, 2.1187241077423096)\n",
      "b3: Shape = (1, 512), Range = (-3.8083152770996094, 2.5376052856445312)\n",
      "A1: Shape = (1, 512), Range = (-0.8456628322601318, 3.0335445404052734)\n",
      "A2: Shape = (1, 512), Range = (-1.5994117259979248, 3.0043625831604004)\n",
      "A3: Shape = (1, 512), Range = (-1.4536678791046143, 3.323633909225464)\n",
      "A4: Shape = (1, 3), Range = (-0.5084089040756226, 1.5517784357070923)\n"
     ]
    }
   ],
   "source": [
    "# Define the list of keys we're interested in\n",
    "keys = ['t1', 't2', 't3', 'b1', 'b2', 'b3', 'A1', 'A2', 'A3', 'A4']\n",
    "\n",
    "# Iterate over keys and print the shape. For tensors not of shape (1,1), also print range, max, and min values.\n",
    "for key in keys:\n",
    "    tensor_val = model_data[key]\n",
    "    shape = tuple(tensor_val.shape)\n",
    "    # Check if the shape is not (1,1)\n",
    "    if shape != (1, 1):\n",
    "        max_val = tensor_val.max().item()\n",
    "        min_val = tensor_val.min().item()\n",
    "        range_val = (min_val, max_val)\n",
    "        print(f\"{key}: Shape = {shape}, Range = {range_val}\")\n",
    "    else:\n",
    "        print(f\"{key}: Shape = {shape}\")"
   ]
  },
  {
   "cell_type": "code",
   "execution_count": 55,
   "id": "620cb107",
   "metadata": {},
   "outputs": [
    {
     "name": "stdout",
     "output_type": "stream",
     "text": [
      "t1_sm: Shape = (1, 512), Range = (0.00014741373888682574, 0.007698443252593279)\n",
      "t2_sm: Shape = (1, 512), Range = (8.037882071221247e-05, 0.006642231717705727)\n",
      "t3_sm: Shape = (1, 512), Range = (7.327467756113037e-05, 0.006618786603212357)\n",
      "b1_sm: Shape = (1, 512), Range = (6.481700984295458e-05, 0.020368685945868492)\n",
      "b2_sm: Shape = (1, 512), Range = (5.5754160712240264e-05, 0.01213038619607687)\n",
      "b3_sm: Shape = (1, 512), Range = (3.1569918064633384e-05, 0.01799996942281723)\n",
      "A1_sm: Shape = (1, 512), Range = (0.00039154815021902323, 0.01894538849592209)\n",
      "A2_sm: Shape = (1, 512), Range = (0.00017549302719999105, 0.01752481982111931)\n",
      "A3_sm: Shape = (1, 512), Range = (0.00019180589879397303, 0.02278335951268673)\n",
      "A4_sm: Shape = (1, 3), Range = (0.07447261363267899, 0.5844193696975708)\n"
     ]
    }
   ],
   "source": [
    "import torch.nn.functional as F\n",
    "\n",
    "normalized_keys = {}\n",
    "for key in keys:\n",
    "    tensor_val = model_data[key]\n",
    "    key_sm = F.softmax(tensor_val, dim=-1)\n",
    "    normalized_keys[key] = key_sm\n",
    "    globals()[f\"{key}_sm\"] = key_sm  # assign to a dynamically named variable\n",
    "    shape_sm = tuple(key_sm.shape)\n",
    "    if shape_sm != (1, 1):\n",
    "        max_val_sm = key_sm.max().item()\n",
    "        min_val_sm = key_sm.min().item()\n",
    "        range_sm = (min_val_sm, max_val_sm)\n",
    "        print(f\"{key}_sm: Shape = {shape_sm}, Range = {range_sm}\")\n",
    "    else:\n",
    "        print(f\"{key}_sm: Shape = {shape_sm}\")"
   ]
  },
  {
   "cell_type": "code",
   "execution_count": 56,
   "id": "d5a0d2d8",
   "metadata": {},
   "outputs": [
    {
     "name": "stdout",
     "output_type": "stream",
     "text": [
      "Top 10 for A1:\n",
      "Indices (in flattened tensor): tensor([429, 442, 485, 439, 220, 155, 469,   0, 474, 476])\n",
      "Values: tensor([0.0189, 0.0149, 0.0142, 0.0142, 0.0124, 0.0123, 0.0110, 0.0104, 0.0102,\n",
      "        0.0088])\n",
      "Top 10 for A2:\n",
      "Indices (in flattened tensor): tensor([387,  97, 499, 349, 226, 486, 461, 287, 490, 228])\n",
      "Values: tensor([0.0175, 0.0170, 0.0169, 0.0150, 0.0138, 0.0133, 0.0125, 0.0117, 0.0117,\n",
      "        0.0116])\n",
      "Top 10 for A3:\n",
      "Indices (in flattened tensor): tensor([456, 225, 468, 506, 488, 498, 457, 467, 411, 230])\n",
      "Values: tensor([0.0228, 0.0189, 0.0164, 0.0160, 0.0138, 0.0132, 0.0130, 0.0121, 0.0116,\n",
      "        0.0106])\n",
      "A4 values:  tensor([[0.0745, 0.3411, 0.5844]])\n"
     ]
    }
   ],
   "source": [
    "import torch\n",
    "# Print the top 10 values and their indices for A1, A2, and A3 from normalized_keys\n",
    "for key in ['A1', 'A2', 'A3']:\n",
    "    t = normalized_keys[key]  # t is a torch.Tensor\n",
    "    # Flatten the tensor to 1D to easily get the top 10 values regardless of its original shape\n",
    "    flat_t = t.flatten()\n",
    "    top_vals, top_indices = torch.topk(flat_t, 10)\n",
    "    print(f\"Top 10 for {key}:\")\n",
    "    print(\"Indices (in flattened tensor):\", top_indices)\n",
    "    print(\"Values:\", top_vals)\n",
    "\n",
    "print(\"A4 values: \", normalized_keys['A4'])"
   ]
  },
  {
   "cell_type": "code",
   "execution_count": 57,
   "id": "9456e164",
   "metadata": {},
   "outputs": [],
   "source": [
    "threshold_raw = torch.zeros_like(model_data['b1'])\n",
    "threshold_fft = torch.zeros_like(model_data['b2'])\n",
    "threshold_der = torch.zeros_like(model_data['b3'])\n",
    "\n",
    "threshold_raw = model_data['b1'] / model_data['t1']\n",
    "threshold_fft = model_data['b2'] / model_data['t2']\n",
    "threshold_der = model_data['b3'] / model_data['t3']"
   ]
  },
  {
   "cell_type": "code",
   "execution_count": 58,
   "id": "c1ed40c4",
   "metadata": {},
   "outputs": [
    {
     "name": "stdout",
     "output_type": "stream",
     "text": [
      "Top 5 values from threshold_raw:\n",
      "Indices: tensor([ 51, 124, 389, 284,  82])\n",
      "Values: tensor([214.0916, 179.4128, 154.1342,  43.5349,  11.0441])\n",
      "\n",
      "Top 5 values from threshold_fft:\n",
      "Indices: tensor([162, 413, 458,  92, 107])\n",
      "Values: tensor([41.1904, 23.4333, 10.4608,  8.1656,  7.3808])\n",
      "\n",
      "Top 5 values from threshold_raw:\n",
      "Indices: tensor([ 51, 124, 389, 284,  82])\n",
      "Values: tensor([214.0916, 179.4128, 154.1342,  43.5349,  11.0441])\n"
     ]
    }
   ],
   "source": [
    "# Get the top 5 values and their corresponding indices from threshold_raw\n",
    "top5_fft_vals, top5_fft_indices = torch.topk(threshold_raw.flatten(), 5)\n",
    "print(\"Top 5 values from threshold_raw:\")\n",
    "print(\"Indices:\", top5_fft_indices)\n",
    "print(\"Values:\", top5_fft_vals)\n",
    "\n",
    "# Get the top 5 values and their corresponding indices from threshold_fft\n",
    "top5_fft_vals, top5_fft_indices = torch.topk(threshold_fft.flatten(), 5)\n",
    "print(\"\\nTop 5 values from threshold_fft:\")\n",
    "print(\"Indices:\", top5_fft_indices)\n",
    "print(\"Values:\", top5_fft_vals)\n",
    "\n",
    "# Get the top 5 values and their corresponding indices from threshold_raw\n",
    "top5_raw_vals, top5_raw_indices = torch.topk(threshold_raw.flatten(), 5)\n",
    "print(\"\\nTop 5 values from threshold_raw:\")\n",
    "print(\"Indices:\", top5_raw_indices)\n",
    "print(\"Values:\", top5_raw_vals)"
   ]
  },
  {
   "cell_type": "code",
   "execution_count": 66,
   "id": "da899885",
   "metadata": {},
   "outputs": [
    {
     "name": "stdout",
     "output_type": "stream",
     "text": [
      "Training Samples: 20\n",
      "Time Series Length: 512\n"
     ]
    }
   ],
   "source": [
    "from utils.datautils import Readdataset, Multi_view, calculate_dataset_metrics\n",
    "Dataset_name = \"BeetleFly\"\n",
    "dataset_path_ = \"../UCRArchive_2018/\"\n",
    "# normalize_dataset = True\n",
    "Xtrain, ytrain, Xval, yval, Xtest, ytest = Readdataset(dataset_path_, Dataset_name)\n",
    "# Xtrain, Xval, Xtest = Multi_view(Xtrain_raw, Xval_raw, Xtest_raw)\n",
    "N, T = calculate_dataset_metrics(Xtrain)\n",
    "print(\"Training Samples:\", N)\n",
    "print(\"Time Series Length:\", T)\n"
   ]
  },
  {
   "cell_type": "code",
   "execution_count": 69,
   "id": "c0a2b4db",
   "metadata": {},
   "outputs": [
    {
     "name": "stdout",
     "output_type": "stream",
     "text": [
      "Xraw shape: (20, 512)\n",
      "Xfft shape: (20, 512)\n",
      "Xder shape: (20, 512)\n"
     ]
    }
   ],
   "source": [
    "from utils.datautils import Splitview\n",
    "Xraw, Xfft, Xder = Splitview(Xtrain,T)\n",
    "print(\"Xraw shape:\", Xraw.shape)\n",
    "print(\"Xfft shape:\", Xfft.shape)\n",
    "print(\"Xder shape:\", Xder.shape)"
   ]
  },
  {
   "cell_type": "code",
   "execution_count": 75,
   "id": "cd4a925c",
   "metadata": {},
   "outputs": [
    {
     "data": {
      "image/png": "[encoded data removed]",
      "text/plain": [
       "<Figure size 640x480 with 1 Axes>"
      ]
     },
     "metadata": {},
     "output_type": "display_data"
    }
   ],
   "source": [
    "import seaborn as sns\n",
    "import pandas as pd\n",
    "import numpy as np\n",
    "\n",
    "import matplotlib.pyplot as plt\n",
    "\n",
    "# Assume Xraw is of shape (N, T)\n",
    "N, T = Xraw.shape\n",
    "\n",
    "df = pd.DataFrame({\n",
    "    'Time': np.tile(np.arange(T), N),\n",
    "    'Value': Xder.flatten(),\n",
    "    'Label': np.repeat(ytrain, T)\n",
    "})\n",
    "\n",
    "sns.lineplot(data=df, x='Time', y='Value', hue='Label', estimator=None)\n",
    "plt.title(\"Xraw Time Series by Label\")\n",
    "plt.legend(title='Label')\n",
    "plt.show()\n"
   ]
  },
  {
   "cell_type": "code",
   "execution_count": 76,
   "id": "53c7b96f",
   "metadata": {},
   "outputs": [
    {
     "data": {
      "text/html": [
       "<div>\n",
       "<style scoped>\n",
       "    .dataframe tbody tr th:only-of-type {\n",
       "        vertical-align: middle;\n",
       "    }\n",
       "\n",
       "    .dataframe tbody tr th {\n",
       "        vertical-align: top;\n",
       "    }\n",
       "\n",
       "    .dataframe thead th {\n",
       "        text-align: right;\n",
       "    }\n",
       "</style>\n",
       "<table border=\"1\" class=\"dataframe\">\n",
       "  <thead>\n",
       "    <tr style=\"text-align: right;\">\n",
       "      <th></th>\n",
       "      <th>Time</th>\n",
       "      <th>Value</th>\n",
       "      <th>Label</th>\n",
       "    </tr>\n",
       "  </thead>\n",
       "  <tbody>\n",
       "    <tr>\n",
       "      <th>0</th>\n",
       "      <td>0</td>\n",
       "      <td>0.623614</td>\n",
       "      <td>1.0</td>\n",
       "    </tr>\n",
       "    <tr>\n",
       "      <th>1</th>\n",
       "      <td>1</td>\n",
       "      <td>0.623614</td>\n",
       "      <td>1.0</td>\n",
       "    </tr>\n",
       "    <tr>\n",
       "      <th>2</th>\n",
       "      <td>2</td>\n",
       "      <td>-1.184347</td>\n",
       "      <td>1.0</td>\n",
       "    </tr>\n",
       "    <tr>\n",
       "      <th>3</th>\n",
       "      <td>3</td>\n",
       "      <td>-1.125274</td>\n",
       "      <td>1.0</td>\n",
       "    </tr>\n",
       "    <tr>\n",
       "      <th>4</th>\n",
       "      <td>4</td>\n",
       "      <td>-1.283607</td>\n",
       "      <td>1.0</td>\n",
       "    </tr>\n",
       "    <tr>\n",
       "      <th>...</th>\n",
       "      <td>...</td>\n",
       "      <td>...</td>\n",
       "      <td>...</td>\n",
       "    </tr>\n",
       "    <tr>\n",
       "      <th>10235</th>\n",
       "      <td>507</td>\n",
       "      <td>0.885867</td>\n",
       "      <td>0.0</td>\n",
       "    </tr>\n",
       "    <tr>\n",
       "      <th>10236</th>\n",
       "      <td>508</td>\n",
       "      <td>0.748874</td>\n",
       "      <td>0.0</td>\n",
       "    </tr>\n",
       "    <tr>\n",
       "      <th>10237</th>\n",
       "      <td>509</td>\n",
       "      <td>0.167434</td>\n",
       "      <td>0.0</td>\n",
       "    </tr>\n",
       "    <tr>\n",
       "      <th>10238</th>\n",
       "      <td>510</td>\n",
       "      <td>-0.361498</td>\n",
       "      <td>0.0</td>\n",
       "    </tr>\n",
       "    <tr>\n",
       "      <th>10239</th>\n",
       "      <td>511</td>\n",
       "      <td>0.226255</td>\n",
       "      <td>0.0</td>\n",
       "    </tr>\n",
       "  </tbody>\n",
       "</table>\n",
       "<p>10240 rows × 3 columns</p>\n",
       "</div>"
      ],
      "text/plain": [
       "       Time     Value  Label\n",
       "0         0  0.623614    1.0\n",
       "1         1  0.623614    1.0\n",
       "2         2 -1.184347    1.0\n",
       "3         3 -1.125274    1.0\n",
       "4         4 -1.283607    1.0\n",
       "...     ...       ...    ...\n",
       "10235   507  0.885867    0.0\n",
       "10236   508  0.748874    0.0\n",
       "10237   509  0.167434    0.0\n",
       "10238   510 -0.361498    0.0\n",
       "10239   511  0.226255    0.0\n",
       "\n",
       "[10240 rows x 3 columns]"
      ]
     },
     "execution_count": 76,
     "metadata": {},
     "output_type": "execute_result"
    }
   ],
   "source": [
    "df"
   ]
  },
  {
   "cell_type": "code",
   "execution_count": 85,
   "id": "fff05b45",
   "metadata": {},
   "outputs": [
    {
     "data": {
      "text/plain": [
       "tensor(0.1174)"
      ]
     },
     "execution_count": 85,
     "metadata": {},
     "output_type": "execute_result"
    }
   ],
   "source": [
    "threshold_der[0, 456]"
   ]
  },
  {
   "cell_type": "code",
   "execution_count": 83,
   "id": "787a2663",
   "metadata": {},
   "outputs": [
    {
     "data": {
      "image/png": "[encoded data removed]",
      "text/plain": [
       "<Figure size 640x480 with 1 Axes>"
      ]
     },
     "metadata": {},
     "output_type": "display_data"
    }
   ],
   "source": [
    "df = pd.DataFrame({\n",
    "    'SampleIndex': np.arange(20),\n",
    "    'Value': Xder[:20, 456],\n",
    "    'Label': ytrain[:20]\n",
    "})\n",
    "\n",
    "sns.scatterplot(data=df, x='SampleIndex', y='Value', hue='Label', palette='deep')\n",
    "plt.title(\"Scatter Plot of 20 Samples (45th Column) from Xder\")\n",
    "plt.show()"
   ]
  },
  {
   "cell_type": "code",
   "execution_count": null,
   "id": "cdf3853d",
   "metadata": {},
   "outputs": [],
   "source": []
  },
  {
   "cell_type": "code",
   "execution_count": null,
   "id": "e026c950",
   "metadata": {},
   "outputs": [],
   "source": []
  },
  {
   "cell_type": "code",
   "execution_count": 65,
   "id": "f9caa244",
   "metadata": {},
   "outputs": [
    {
     "data": {
      "text/plain": [
       "(20, 1536)"
      ]
     },
     "execution_count": 65,
     "metadata": {},
     "output_type": "execute_result"
    }
   ],
   "source": [
    "Xtrain.shape"
   ]
  },
  {
   "cell_type": "code",
   "execution_count": null,
   "id": "b19401ef",
   "metadata": {},
   "outputs": [],
   "source": []
  },
  {
   "cell_type": "code",
   "execution_count": null,
   "id": "71689e4f",
   "metadata": {},
   "outputs": [],
   "source": [
    "import numpy as np\n",
    "parameters = extract_parameters(tree[0].bestmodel, 0)\n"
   ]
  },
  {
   "cell_type": "code",
   "execution_count": null,
   "id": "b77813f1",
   "metadata": {},
   "outputs": [],
   "source": [
    "parameters.keys()"
   ]
  },
  {
   "cell_type": "code",
   "execution_count": null,
   "id": "cb0b073b",
   "metadata": {},
   "outputs": [],
   "source": [
    "# np.max(parameters['A1'])\n",
    "for param_name, param_val in parameters.items():\n",
    "    max_val = np.max(param_val)\n",
    "    dims = param_val.shape\n",
    "    print(f\"{param_name}: Max = {max_val}, Dimensions = {dims}\")"
   ]
  },
  {
   "cell_type": "code",
   "execution_count": null,
   "id": "e982cb8f",
   "metadata": {},
   "outputs": [],
   "source": [
    "for idx, num in enumerate(parameters['A1'][0][:]):\n",
    "    if num > 3:\n",
    "        print(f\"Node {idx}: {num}\")"
   ]
  },
  {
   "cell_type": "code",
   "execution_count": null,
   "id": "e3779df9",
   "metadata": {},
   "outputs": [],
   "source": [
    "normal_A1 = A_sm1 / A_sm1.sum()\n",
    "print(normal_A1)\n"
   ]
  },
  {
   "cell_type": "code",
   "execution_count": null,
   "id": "c43d52bb",
   "metadata": {},
   "outputs": [],
   "source": [
    "A1"
   ]
  },
  {
   "cell_type": "code",
   "execution_count": null,
   "id": "43803006",
   "metadata": {},
   "outputs": [],
   "source": [
    "parameters['t1'].shape"
   ]
  },
  {
   "cell_type": "code",
   "execution_count": null,
   "id": "3509240a",
   "metadata": {},
   "outputs": [],
   "source": [
    "parameters['t1']"
   ]
  },
  {
   "cell_type": "code",
   "execution_count": null,
   "id": "581c2679",
   "metadata": {},
   "outputs": [],
   "source": []
  }
 ],
 "metadata": {
  "kernelspec": {
   "display_name": ".venv",
   "language": "python",
   "name": "python3"
  },
  "language_info": {
   "codemirror_mode": {
    "name": "ipython",
    "version": 3
   },
   "file_extension": ".py",
   "mimetype": "text/x-python",
   "name": "python",
   "nbconvert_exporter": "python",
   "pygments_lexer": "ipython3",
   "version": "3.13.1"
  }
 },
 "nbformat": 4,
 "nbformat_minor": 5
}
