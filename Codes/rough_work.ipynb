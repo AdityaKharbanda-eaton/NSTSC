{
 "cells": [
  {
   "cell_type": "code",
   "execution_count": 1,
   "id": "6b1cb7b9",
   "metadata": {},
   "outputs": [],
   "source": [
    "import pickle"
   ]
  },
  {
   "cell_type": "code",
   "execution_count": 48,
   "id": "551ae77d",
   "metadata": {},
   "outputs": [],
   "source": [
    "file = \"BeetleFly_model.pkl\"\n",
    "with open(file, \"rb\") as f:\n",
    "    tree = pickle.load(f)"
   ]
  },
  {
   "cell_type": "code",
   "execution_count": 49,
   "id": "23f51ef2",
   "metadata": {},
   "outputs": [
    {
     "name": "stdout",
     "output_type": "stream",
     "text": [
      "Tree Type:  <class 'dict'>\n",
      "Tree Keys:  dict_keys([0, 1, 2, 3, 4])\n",
      "Tree[0] Type:  <class 'utils.train_utils.Node'>\n"
     ]
    }
   ],
   "source": [
    "print(\"Tree Type: \", type(tree))\n",
    "print(\"Tree Keys: \", tree.keys())\n",
    "print(\"Tree[0] Type: \", type(tree[0]))"
   ]
  },
  {
   "cell_type": "code",
   "execution_count": 6,
   "id": "4b7458d4",
   "metadata": {},
   "outputs": [
    {
     "name": "stdout",
     "output_type": "stream",
     "text": [
      "['Testidx', 'Xpreds', 'Xpredsupto', '__class__', '__delattr__', '__dict__', '__dir__', '__doc__', '__eq__', '__firstlineno__', '__format__', '__ge__', '__getattribute__', '__getstate__', '__gt__', '__hash__', '__init__', '__init_subclass__', '__le__', '__lt__', '__module__', '__ne__', '__new__', '__reduce__', '__reduce_ex__', '__repr__', '__setattr__', '__sizeof__', '__static_attributes__', '__str__', '__subclasshook__', '__weakref__', 'bestmodel', 'bstmdlclass', 'falseidx', 'falseidxt', 'ginis', 'idx', 'leftchd', 'predcls', 'rightchd', 'stoptrain', 'testaccuupto', 'testfalseidx', 'testidx', 'testtrueidx', 'trainidx', 'trueidx', 'trueidxt', 'ycount']\n"
     ]
    }
   ],
   "source": [
    "# to list all (including methods) attributes, you can use:\n",
    "print(dir(tree[0]))"
   ]
  },
  {
   "cell_type": "code",
   "execution_count": 50,
   "id": "955aea3e",
   "metadata": {},
   "outputs": [
    {
     "data": {
      "image/png": "[encoded data removed]",
      "text/plain": [
       "<Figure size 640x480 with 1 Axes>"
      ]
     },
     "metadata": {},
     "output_type": "display_data"
    }
   ],
   "source": [
    "import networkx as nx\n",
    "import matplotlib.pyplot as plt\n",
    "\n",
    "G = nx.DiGraph()\n",
    "\n",
    "for key, node in tree.items():\n",
    "    # Add the node with label\n",
    "    G.add_node(key, label=f'Node {key}')\n",
    "    \n",
    "    # Connect to left and right children if available\n",
    "    if hasattr(node, \"leftchd\") and node.leftchd is not None:\n",
    "        G.add_edge(key, node.leftchd, label='left')\n",
    "    \n",
    "    if hasattr(node, \"rightchd\") and node.rightchd is not None:\n",
    "        G.add_edge(key, node.rightchd, label='right')\n",
    "\n",
    "# Draw the graph\n",
    "pos = nx.spring_layout(G)\n",
    "nx.draw(G, pos, with_labels=True, node_size=700, node_color='lightblue', arrows=True)\n",
    "edge_labels = nx.get_edge_attributes(G, 'label')\n",
    "nx.draw_networkx_edge_labels(G, pos, edge_labels=edge_labels)\n",
    "\n",
    "plt.show()"
   ]
  },
  {
   "cell_type": "code",
   "execution_count": 51,
   "id": "fb9eb7c1",
   "metadata": {},
   "outputs": [
    {
     "name": "stdout",
     "output_type": "stream",
     "text": [
      "Node 0: TL_NN1() leftchd: 1 rightchd: 2\n",
      "Node 1: TL_NN1() leftchd: 3 rightchd: 4\n",
      "Node 2 precls: 1\n",
      "Node 3 precls: 0\n",
      "Node 4 precls: 1\n"
     ]
    }
   ],
   "source": [
    "for i in tree:\n",
    "    try:\n",
    "        output_parts = [f\"Node {i}: {tree[i].bestmodel}\"]\n",
    "        if hasattr(tree[i], 'leftchd') and tree[i].leftchd is not None:\n",
    "            output_parts.append(f\"leftchd: {tree[i].leftchd}\")\n",
    "        if hasattr(tree[i], 'rightchd') and tree[i].rightchd is not None:\n",
    "            output_parts.append(f\"rightchd: {tree[i].rightchd}\")\n",
    "        print(\" \".join(output_parts))\n",
    "    except AttributeError:\n",
    "        # print(f\"Node {i} does not have attribute 'bestmodel'.\")\n",
    "        print(f\"Node {i} precls: {tree[i].predcls}\")"
   ]
  },
  {
   "cell_type": "code",
   "execution_count": 52,
   "id": "428a1829",
   "metadata": {},
   "outputs": [],
   "source": [
    "state_dict = tree[0].bestmodel.state_dict\n",
    "model_data = state_dict()"
   ]
  },
  {
   "cell_type": "code",
   "execution_count": 53,
   "id": "371de198",
   "metadata": {},
   "outputs": [
    {
     "name": "stdout",
     "output_type": "stream",
     "text": [
      "odict_keys(['t1', 't1_2', 't2', 't2_2', 't3', 't3_2', 'b1', 'b1_2', 'b2', 'b2_2', 'b3', 'b3_2', 'A1', 'A2', 'A3', 'A4', 'beta1', 'beta2', 'beta3', 'beta4'])\n"
     ]
    }
   ],
   "source": [
    "# list keys\n",
    "print(model_data.keys())"
   ]
  },
  {
   "cell_type": "code",
   "execution_count": 54,
   "id": "841f2934",
   "metadata": {},
   "outputs": [
    {
     "name": "stdout",
     "output_type": "stream",
     "text": [
      "t1: Shape = (1, 512), Range = (-2.02667236328125, 1.9288578033447266)\n",
      "t2: Shape = (1, 512), Range = (-2.2294859886169434, 2.184966802597046)\n",
      "t3: Shape = (1, 512), Range = (-2.284411668777466, 2.2190403938293457)\n",
      "b1: Shape = (1, 512), Range = (-3.0688297748565674, 2.6813559532165527)\n",
      "b2: Shape = (1, 512), Range = (-3.2637929916381836, 2.1187241077423096)\n",
      "b3: Shape = (1, 512), Range = (-3.8083152770996094, 2.5376052856445312)\n",
      "A1: Shape = (1, 512), Range = (-0.8456628322601318, 3.0335445404052734)\n",
      "A2: Shape = (1, 512), Range = (-1.5994117259979248, 3.0043625831604004)\n",
      "A3: Shape = (1, 512), Range = (-1.4536678791046143, 3.323633909225464)\n",
      "A4: Shape = (1, 3), Range = (-0.5084089040756226, 1.5517784357070923)\n"
     ]
    }
   ],
   "source": [
    "# Define the list of keys we're interested in\n",
    "keys = ['t1', 't2', 't3', 'b1', 'b2', 'b3', 'A1', 'A2', 'A3', 'A4']\n",
    "\n",
    "# Iterate over keys and print the shape. For tensors not of shape (1,1), also print range, max, and min values.\n",
    "for key in keys:\n",
    "    tensor_val = model_data[key]\n",
    "    shape = tuple(tensor_val.shape)\n",
    "    # Check if the shape is not (1,1)\n",
    "    if shape != (1, 1):\n",
    "        max_val = tensor_val.max().item()\n",
    "        min_val = tensor_val.min().item()\n",
    "        range_val = (min_val, max_val)\n",
    "        print(f\"{key}: Shape = {shape}, Range = {range_val}\")\n",
    "    else:\n",
    "        print(f\"{key}: Shape = {shape}\")"
   ]
  },
  {
   "cell_type": "code",
   "execution_count": 55,
   "id": "620cb107",
   "metadata": {},
   "outputs": [
    {
     "name": "stdout",
     "output_type": "stream",
     "text": [
      "t1_sm: Shape = (1, 512), Range = (0.00014741373888682574, 0.007698443252593279)\n",
      "t2_sm: Shape = (1, 512), Range = (8.037882071221247e-05, 0.006642231717705727)\n",
      "t3_sm: Shape = (1, 512), Range = (7.327467756113037e-05, 0.006618786603212357)\n",
      "b1_sm: Shape = (1, 512), Range = (6.481700984295458e-05, 0.020368685945868492)\n",
      "b2_sm: Shape = (1, 512), Range = (5.5754160712240264e-05, 0.01213038619607687)\n",
      "b3_sm: Shape = (1, 512), Range = (3.1569918064633384e-05, 0.01799996942281723)\n",
      "A1_sm: Shape = (1, 512), Range = (0.00039154815021902323, 0.01894538849592209)\n",
      "A2_sm: Shape = (1, 512), Range = (0.00017549302719999105, 0.01752481982111931)\n",
      "A3_sm: Shape = (1, 512), Range = (0.00019180589879397303, 0.02278335951268673)\n",
      "A4_sm: Shape = (1, 3), Range = (0.07447261363267899, 0.5844193696975708)\n"
     ]
    }
   ],
   "source": [
    "import torch.nn.functional as F\n",
    "\n",
    "normalized_keys = {}\n",
    "for key in keys:\n",
    "    tensor_val = model_data[key]\n",
    "    key_sm = F.softmax(tensor_val, dim=-1)\n",
    "    normalized_keys[key] = key_sm\n",
    "    globals()[f\"{key}_sm\"] = key_sm  # assign to a dynamically named variable\n",
    "    shape_sm = tuple(key_sm.shape)\n",
    "    if shape_sm != (1, 1):\n",
    "        max_val_sm = key_sm.max().item()\n",
    "        min_val_sm = key_sm.min().item()\n",
    "        range_sm = (min_val_sm, max_val_sm)\n",
    "        print(f\"{key}_sm: Shape = {shape_sm}, Range = {range_sm}\")\n",
    "    else:\n",
    "        print(f\"{key}_sm: Shape = {shape_sm}\")"
   ]
  },
  {
   "cell_type": "code",
   "execution_count": 56,
   "id": "d5a0d2d8",
   "metadata": {},
   "outputs": [
    {
     "name": "stdout",
     "output_type": "stream",
     "text": [
      "Top 10 for A1:\n",
      "Indices (in flattened tensor): tensor([429, 442, 485, 439, 220, 155, 469,   0, 474, 476])\n",
      "Values: tensor([0.0189, 0.0149, 0.0142, 0.0142, 0.0124, 0.0123, 0.0110, 0.0104, 0.0102,\n",
      "        0.0088])\n",
      "Top 10 for A2:\n",
      "Indices (in flattened tensor): tensor([387,  97, 499, 349, 226, 486, 461, 287, 490, 228])\n",
      "Values: tensor([0.0175, 0.0170, 0.0169, 0.0150, 0.0138, 0.0133, 0.0125, 0.0117, 0.0117,\n",
      "        0.0116])\n",
      "Top 10 for A3:\n",
      "Indices (in flattened tensor): tensor([456, 225, 468, 506, 488, 498, 457, 467, 411, 230])\n",
      "Values: tensor([0.0228, 0.0189, 0.0164, 0.0160, 0.0138, 0.0132, 0.0130, 0.0121, 0.0116,\n",
      "        0.0106])\n",
      "A4 values:  tensor([[0.0745, 0.3411, 0.5844]])\n"
     ]
    }
   ],
   "source": [
    "import torch\n",
    "# Print the top 10 values and their indices for A1, A2, and A3 from normalized_keys\n",
    "for key in ['A1', 'A2', 'A3']:\n",
    "    t = normalized_keys[key]  # t is a torch.Tensor\n",
    "    # Flatten the tensor to 1D to easily get the top 10 values regardless of its original shape\n",
    "    flat_t = t.flatten()\n",
    "    top_vals, top_indices = torch.topk(flat_t, 10)\n",
    "    print(f\"Top 10 for {key}:\")\n",
    "    print(\"Indices (in flattened tensor):\", top_indices)\n",
    "    print(\"Values:\", top_vals)\n",
    "\n",
    "print(\"A4 values: \", normalized_keys['A4'])"
   ]
  },
  {
   "cell_type": "code",
   "execution_count": 57,
   "id": "9456e164",
   "metadata": {},
   "outputs": [],
   "source": [
    "threshold_raw = torch.zeros_like(model_data['b1'])\n",
    "threshold_fft = torch.zeros_like(model_data['b2'])\n",
    "threshold_der = torch.zeros_like(model_data['b3'])\n",
    "\n",
    "threshold_raw = model_data['b1'] / model_data['t1']\n",
    "threshold_fft = model_data['b2'] / model_data['t2']\n",
    "threshold_der = model_data['b3'] / model_data['t3']"
   ]
  },
  {
   "cell_type": "code",
   "execution_count": 58,
   "id": "c1ed40c4",
   "metadata": {},
   "outputs": [
    {
     "name": "stdout",
     "output_type": "stream",
     "text": [
      "Top 5 values from threshold_raw:\n",
      "Indices: tensor([ 51, 124, 389, 284,  82])\n",
      "Values: tensor([214.0916, 179.4128, 154.1342,  43.5349,  11.0441])\n",
      "\n",
      "Top 5 values from threshold_fft:\n",
      "Indices: tensor([162, 413, 458,  92, 107])\n",
      "Values: tensor([41.1904, 23.4333, 10.4608,  8.1656,  7.3808])\n",
      "\n",
      "Top 5 values from threshold_raw:\n",
      "Indices: tensor([ 51, 124, 389, 284,  82])\n",
      "Values: tensor([214.0916, 179.4128, 154.1342,  43.5349,  11.0441])\n"
     ]
    }
   ],
   "source": [
    "# Get the top 5 values and their corresponding indices from threshold_raw\n",
    "top5_fft_vals, top5_fft_indices = torch.topk(threshold_raw.flatten(), 5)\n",
    "print(\"Top 5 values from threshold_raw:\")\n",
    "print(\"Indices:\", top5_fft_indices)\n",
    "print(\"Values:\", top5_fft_vals)\n",
    "\n",
    "# Get the top 5 values and their corresponding indices from threshold_fft\n",
    "top5_fft_vals, top5_fft_indices = torch.topk(threshold_fft.flatten(), 5)\n",
    "print(\"\\nTop 5 values from threshold_fft:\")\n",
    "print(\"Indices:\", top5_fft_indices)\n",
    "print(\"Values:\", top5_fft_vals)\n",
    "\n",
    "# Get the top 5 values and their corresponding indices from threshold_raw\n",
    "top5_raw_vals, top5_raw_indices = torch.topk(threshold_raw.flatten(), 5)\n",
    "print(\"\\nTop 5 values from threshold_raw:\")\n",
    "print(\"Indices:\", top5_raw_indices)\n",
    "print(\"Values:\", top5_raw_vals)"
   ]
  },
  {
   "cell_type": "code",
   "execution_count": 66,
   "id": "da899885",
   "metadata": {},
   "outputs": [
    {
     "name": "stdout",
     "output_type": "stream",
     "text": [
      "Training Samples: 20\n",
      "Time Series Length: 512\n"
     ]
    }
   ],
   "source": [
    "from utils.datautils import Readdataset, Multi_view, calculate_dataset_metrics\n",
    "Dataset_name = \"BeetleFly\"\n",
    "dataset_path_ = \"../UCRArchive_2018/\"\n",
    "# normalize_dataset = True\n",
    "Xtrain, ytrain, Xval, yval, Xtest, ytest = Readdataset(dataset_path_, Dataset_name)\n",
    "# Xtrain, Xval, Xtest = Multi_view(Xtrain_raw, Xval_raw, Xtest_raw)\n",
    "N, T = calculate_dataset_metrics(Xtrain)\n",
    "print(\"Training Samples:\", N)\n",
    "print(\"Time Series Length:\", T)\n"
   ]
  },
  {
   "cell_type": "code",
   "execution_count": 69,
   "id": "c0a2b4db",
   "metadata": {},
   "outputs": [
    {
     "name": "stdout",
     "output_type": "stream",
     "text": [
      "Xraw shape: (20, 512)\n",
      "Xfft shape: (20, 512)\n",
      "Xder shape: (20, 512)\n"
     ]
    }
   ],
   "source": [
    "from utils.datautils import Splitview\n",
    "Xraw, Xfft, Xder = Splitview(Xtrain,T)\n",
    "print(\"Xraw shape:\", Xraw.shape)\n",
    "print(\"Xfft shape:\", Xfft.shape)\n",
    "print(\"Xder shape:\", Xder.shape)"
   ]
  },
  {
   "cell_type": "code",
   "execution_count": 138,
   "id": "9f6e2882",
   "metadata": {},
   "outputs": [
    {
     "data": {
      "text/plain": [
       "array([100, 101, 102, 103, 104, 105, 106, 107, 108, 109, 110, 111, 112,\n",
       "       113, 114, 115, 116, 117, 118, 119, 120, 121, 122, 123, 124, 125,\n",
       "       126, 127, 128, 129, 130, 131, 132, 133, 134, 135, 136, 137, 138,\n",
       "       139, 140, 141, 142, 143, 144, 145, 146, 147, 148, 149])"
      ]
     },
     "execution_count": 138,
     "metadata": {},
     "output_type": "execute_result"
    }
   ],
   "source": [
    "np.arange(100,150)"
   ]
  },
  {
   "cell_type": "code",
   "execution_count": 145,
   "id": "e030eece",
   "metadata": {},
   "outputs": [
    {
     "data": {
      "text/plain": [
       "(0, 512)"
      ]
     },
     "execution_count": 145,
     "metadata": {},
     "output_type": "execute_result"
    }
   ],
   "source": [
    "Xraw.shape"
   ]
  },
  {
   "cell_type": "code",
   "execution_count": 147,
   "id": "5a82975a",
   "metadata": {},
   "outputs": [
    {
     "ename": "KeyError",
     "evalue": "'y'",
     "output_type": "error",
     "traceback": [
      "\u001b[31m---------------------------------------------------------------------------\u001b[39m",
      "\u001b[31mKeyError\u001b[39m                                  Traceback (most recent call last)",
      "\u001b[36mFile \u001b[39m\u001b[32mc:\\Users\\E0819920\\NSTSC\\Codes\\.venv\\Lib\\site-packages\\pandas\\core\\indexes\\base.py:3805\u001b[39m, in \u001b[36mIndex.get_loc\u001b[39m\u001b[34m(self, key)\u001b[39m\n\u001b[32m   3804\u001b[39m \u001b[38;5;28;01mtry\u001b[39;00m:\n\u001b[32m-> \u001b[39m\u001b[32m3805\u001b[39m     \u001b[38;5;28;01mreturn\u001b[39;00m \u001b[38;5;28;43mself\u001b[39;49m\u001b[43m.\u001b[49m\u001b[43m_engine\u001b[49m\u001b[43m.\u001b[49m\u001b[43mget_loc\u001b[49m\u001b[43m(\u001b[49m\u001b[43mcasted_key\u001b[49m\u001b[43m)\u001b[49m\n\u001b[32m   3806\u001b[39m \u001b[38;5;28;01mexcept\u001b[39;00m \u001b[38;5;167;01mKeyError\u001b[39;00m \u001b[38;5;28;01mas\u001b[39;00m err:\n",
      "\u001b[36mFile \u001b[39m\u001b[32mindex.pyx:167\u001b[39m, in \u001b[36mpandas._libs.index.IndexEngine.get_loc\u001b[39m\u001b[34m()\u001b[39m\n",
      "\u001b[36mFile \u001b[39m\u001b[32mindex.pyx:196\u001b[39m, in \u001b[36mpandas._libs.index.IndexEngine.get_loc\u001b[39m\u001b[34m()\u001b[39m\n",
      "\u001b[36mFile \u001b[39m\u001b[32mpandas\\\\_libs\\\\hashtable_class_helper.pxi:7081\u001b[39m, in \u001b[36mpandas._libs.hashtable.PyObjectHashTable.get_item\u001b[39m\u001b[34m()\u001b[39m\n",
      "\u001b[36mFile \u001b[39m\u001b[32mpandas\\\\_libs\\\\hashtable_class_helper.pxi:7089\u001b[39m, in \u001b[36mpandas._libs.hashtable.PyObjectHashTable.get_item\u001b[39m\u001b[34m()\u001b[39m\n",
      "\u001b[31mKeyError\u001b[39m: 'y'",
      "\nThe above exception was the direct cause of the following exception:\n",
      "\u001b[31mKeyError\u001b[39m                                  Traceback (most recent call last)",
      "\u001b[36mCell\u001b[39m\u001b[36m \u001b[39m\u001b[32mIn[147]\u001b[39m\u001b[32m, line 2\u001b[39m\n\u001b[32m      1\u001b[39m \u001b[38;5;28;01mimport\u001b[39;00m\u001b[38;5;250m \u001b[39m\u001b[34;01mseaborn\u001b[39;00m\u001b[38;5;250m \u001b[39m\u001b[38;5;28;01mas\u001b[39;00m\u001b[38;5;250m \u001b[39m\u001b[34;01msns\u001b[39;00m\n\u001b[32m----> \u001b[39m\u001b[32m2\u001b[39m \u001b[43msns\u001b[49m\u001b[43m.\u001b[49m\u001b[43mlineplot\u001b[49m\u001b[43m(\u001b[49m\u001b[43mx\u001b[49m\u001b[43m \u001b[49m\u001b[43m=\u001b[49m\u001b[43m \u001b[49m\u001b[43mnp\u001b[49m\u001b[43m.\u001b[49m\u001b[43marange\u001b[49m\u001b[43m(\u001b[49m\u001b[32;43m100\u001b[39;49m\u001b[43m,\u001b[49m\u001b[43m \u001b[49m\u001b[32;43m150\u001b[39;49m\u001b[43m)\u001b[49m\u001b[43m,\u001b[49m\u001b[43m \u001b[49m\u001b[43my\u001b[49m\u001b[43m \u001b[49m\u001b[43m=\u001b[49m\u001b[43m \u001b[49m\u001b[43mXraw\u001b[49m\u001b[43m[\u001b[49m\u001b[32;43m100\u001b[39;49m\u001b[43m:\u001b[49m\u001b[32;43m150\u001b[39;49m\u001b[43m]\u001b[49m\u001b[43m)\u001b[49m\n",
      "\u001b[36mFile \u001b[39m\u001b[32mc:\\Users\\E0819920\\NSTSC\\Codes\\.venv\\Lib\\site-packages\\seaborn\\relational.py:515\u001b[39m, in \u001b[36mlineplot\u001b[39m\u001b[34m(data, x, y, hue, size, style, units, weights, palette, hue_order, hue_norm, sizes, size_order, size_norm, dashes, markers, style_order, estimator, errorbar, n_boot, seed, orient, sort, err_style, err_kws, legend, ci, ax, **kwargs)\u001b[39m\n\u001b[32m    512\u001b[39m color = kwargs.pop(\u001b[33m\"\u001b[39m\u001b[33mcolor\u001b[39m\u001b[33m\"\u001b[39m, kwargs.pop(\u001b[33m\"\u001b[39m\u001b[33mc\u001b[39m\u001b[33m\"\u001b[39m, \u001b[38;5;28;01mNone\u001b[39;00m))\n\u001b[32m    513\u001b[39m kwargs[\u001b[33m\"\u001b[39m\u001b[33mcolor\u001b[39m\u001b[33m\"\u001b[39m] = _default_color(ax.plot, hue, color, kwargs)\n\u001b[32m--> \u001b[39m\u001b[32m515\u001b[39m \u001b[43mp\u001b[49m\u001b[43m.\u001b[49m\u001b[43mplot\u001b[49m\u001b[43m(\u001b[49m\u001b[43max\u001b[49m\u001b[43m,\u001b[49m\u001b[43m \u001b[49m\u001b[43mkwargs\u001b[49m\u001b[43m)\u001b[49m\n\u001b[32m    516\u001b[39m \u001b[38;5;28;01mreturn\u001b[39;00m ax\n",
      "\u001b[36mFile \u001b[39m\u001b[32mc:\\Users\\E0819920\\NSTSC\\Codes\\.venv\\Lib\\site-packages\\seaborn\\relational.py:316\u001b[39m, in \u001b[36m_LinePlotter.plot\u001b[39m\u001b[34m(self, ax, kws)\u001b[39m\n\u001b[32m    314\u001b[39m         lines.extend(ax.plot(unit_data[\u001b[33m\"\u001b[39m\u001b[33mx\u001b[39m\u001b[33m\"\u001b[39m], unit_data[\u001b[33m\"\u001b[39m\u001b[33my\u001b[39m\u001b[33m\"\u001b[39m], **kws))\n\u001b[32m    315\u001b[39m \u001b[38;5;28;01melse\u001b[39;00m:\n\u001b[32m--> \u001b[39m\u001b[32m316\u001b[39m     lines = ax.plot(sub_data[\u001b[33m\"\u001b[39m\u001b[33mx\u001b[39m\u001b[33m\"\u001b[39m], \u001b[43msub_data\u001b[49m\u001b[43m[\u001b[49m\u001b[33;43m\"\u001b[39;49m\u001b[33;43my\u001b[39;49m\u001b[33;43m\"\u001b[39;49m\u001b[43m]\u001b[49m, **kws)\n\u001b[32m    318\u001b[39m \u001b[38;5;28;01mfor\u001b[39;00m line \u001b[38;5;129;01min\u001b[39;00m lines:\n\u001b[32m    320\u001b[39m     \u001b[38;5;28;01mif\u001b[39;00m \u001b[33m\"\u001b[39m\u001b[33mhue\u001b[39m\u001b[33m\"\u001b[39m \u001b[38;5;129;01min\u001b[39;00m sub_vars:\n",
      "\u001b[36mFile \u001b[39m\u001b[32mc:\\Users\\E0819920\\NSTSC\\Codes\\.venv\\Lib\\site-packages\\pandas\\core\\frame.py:4102\u001b[39m, in \u001b[36mDataFrame.__getitem__\u001b[39m\u001b[34m(self, key)\u001b[39m\n\u001b[32m   4100\u001b[39m \u001b[38;5;28;01mif\u001b[39;00m \u001b[38;5;28mself\u001b[39m.columns.nlevels > \u001b[32m1\u001b[39m:\n\u001b[32m   4101\u001b[39m     \u001b[38;5;28;01mreturn\u001b[39;00m \u001b[38;5;28mself\u001b[39m._getitem_multilevel(key)\n\u001b[32m-> \u001b[39m\u001b[32m4102\u001b[39m indexer = \u001b[38;5;28;43mself\u001b[39;49m\u001b[43m.\u001b[49m\u001b[43mcolumns\u001b[49m\u001b[43m.\u001b[49m\u001b[43mget_loc\u001b[49m\u001b[43m(\u001b[49m\u001b[43mkey\u001b[49m\u001b[43m)\u001b[49m\n\u001b[32m   4103\u001b[39m \u001b[38;5;28;01mif\u001b[39;00m is_integer(indexer):\n\u001b[32m   4104\u001b[39m     indexer = [indexer]\n",
      "\u001b[36mFile \u001b[39m\u001b[32mc:\\Users\\E0819920\\NSTSC\\Codes\\.venv\\Lib\\site-packages\\pandas\\core\\indexes\\base.py:3812\u001b[39m, in \u001b[36mIndex.get_loc\u001b[39m\u001b[34m(self, key)\u001b[39m\n\u001b[32m   3807\u001b[39m     \u001b[38;5;28;01mif\u001b[39;00m \u001b[38;5;28misinstance\u001b[39m(casted_key, \u001b[38;5;28mslice\u001b[39m) \u001b[38;5;129;01mor\u001b[39;00m (\n\u001b[32m   3808\u001b[39m         \u001b[38;5;28misinstance\u001b[39m(casted_key, abc.Iterable)\n\u001b[32m   3809\u001b[39m         \u001b[38;5;129;01mand\u001b[39;00m \u001b[38;5;28many\u001b[39m(\u001b[38;5;28misinstance\u001b[39m(x, \u001b[38;5;28mslice\u001b[39m) \u001b[38;5;28;01mfor\u001b[39;00m x \u001b[38;5;129;01min\u001b[39;00m casted_key)\n\u001b[32m   3810\u001b[39m     ):\n\u001b[32m   3811\u001b[39m         \u001b[38;5;28;01mraise\u001b[39;00m InvalidIndexError(key)\n\u001b[32m-> \u001b[39m\u001b[32m3812\u001b[39m     \u001b[38;5;28;01mraise\u001b[39;00m \u001b[38;5;167;01mKeyError\u001b[39;00m(key) \u001b[38;5;28;01mfrom\u001b[39;00m\u001b[38;5;250m \u001b[39m\u001b[34;01merr\u001b[39;00m\n\u001b[32m   3813\u001b[39m \u001b[38;5;28;01mexcept\u001b[39;00m \u001b[38;5;167;01mTypeError\u001b[39;00m:\n\u001b[32m   3814\u001b[39m     \u001b[38;5;66;03m# If we have a listlike key, _check_indexing_error will raise\u001b[39;00m\n\u001b[32m   3815\u001b[39m     \u001b[38;5;66;03m#  InvalidIndexError. Otherwise we fall through and re-raise\u001b[39;00m\n\u001b[32m   3816\u001b[39m     \u001b[38;5;66;03m#  the TypeError.\u001b[39;00m\n\u001b[32m   3817\u001b[39m     \u001b[38;5;28mself\u001b[39m._check_indexing_error(key)\n",
      "\u001b[31mKeyError\u001b[39m: 'y'"
     ]
    },
    {
     "data": {
      "image/png": "[encoded data removed]",
      "text/plain": [
       "<Figure size 640x480 with 1 Axes>"
      ]
     },
     "metadata": {},
     "output_type": "display_data"
    }
   ],
   "source": [
    "import seaborn as sns\n",
    "sns.lineplot(x = np.arange(100, 150), y = Xraw[100:150])"
   ]
  },
  {
   "cell_type": "code",
   "execution_count": 136,
   "id": "cd4a925c",
   "metadata": {},
   "outputs": [
    {
     "ename": "ValueError",
     "evalue": "All arrays must be of the same length",
     "output_type": "error",
     "traceback": [
      "\u001b[31m---------------------------------------------------------------------------\u001b[39m",
      "\u001b[31mValueError\u001b[39m                                Traceback (most recent call last)",
      "\u001b[36mCell\u001b[39m\u001b[36m \u001b[39m\u001b[32mIn[136]\u001b[39m\u001b[32m, line 10\u001b[39m\n\u001b[32m      7\u001b[39m \u001b[38;5;66;03m# Assume Xraw is of shape (N, T)\u001b[39;00m\n\u001b[32m      8\u001b[39m N, T = Xraw.shape\n\u001b[32m---> \u001b[39m\u001b[32m10\u001b[39m df = \u001b[43mpd\u001b[49m\u001b[43m.\u001b[49m\u001b[43mDataFrame\u001b[49m\u001b[43m(\u001b[49m\u001b[43m{\u001b[49m\n\u001b[32m     11\u001b[39m \u001b[43m    \u001b[49m\u001b[33;43m'\u001b[39;49m\u001b[33;43mTime\u001b[39;49m\u001b[33;43m'\u001b[39;49m\u001b[43m:\u001b[49m\u001b[43m \u001b[49m\u001b[43mnp\u001b[49m\u001b[43m.\u001b[49m\u001b[43mtile\u001b[49m\u001b[43m(\u001b[49m\u001b[43mnp\u001b[49m\u001b[43m.\u001b[49m\u001b[43marange\u001b[49m\u001b[43m(\u001b[49m\u001b[43mT\u001b[49m\u001b[43m)\u001b[49m\u001b[43m,\u001b[49m\u001b[43m \u001b[49m\u001b[43mN\u001b[49m\u001b[43m)\u001b[49m\u001b[43m,\u001b[49m\n\u001b[32m     12\u001b[39m \u001b[43m    \u001b[49m\u001b[33;43m'\u001b[39;49m\u001b[33;43mValue\u001b[39;49m\u001b[33;43m'\u001b[39;49m\u001b[43m:\u001b[49m\u001b[43m \u001b[49m\u001b[43mXder\u001b[49m\u001b[43m.\u001b[49m\u001b[43mflatten\u001b[49m\u001b[43m(\u001b[49m\u001b[43m)\u001b[49m\u001b[43m,\u001b[49m\n\u001b[32m     13\u001b[39m \u001b[43m    \u001b[49m\u001b[33;43m'\u001b[39;49m\u001b[33;43mLabel\u001b[39;49m\u001b[33;43m'\u001b[39;49m\u001b[43m:\u001b[49m\u001b[43m \u001b[49m\u001b[43mnp\u001b[49m\u001b[43m.\u001b[49m\u001b[43mrepeat\u001b[49m\u001b[43m(\u001b[49m\u001b[43mytrain\u001b[49m\u001b[43m,\u001b[49m\u001b[43m \u001b[49m\u001b[43mT\u001b[49m\u001b[43m)\u001b[49m\n\u001b[32m     14\u001b[39m \u001b[43m}\u001b[49m\u001b[43m)\u001b[49m\n\u001b[32m     16\u001b[39m sns.lineplot(data=df, x=\u001b[33m'\u001b[39m\u001b[33mTime\u001b[39m\u001b[33m'\u001b[39m, y=\u001b[33m'\u001b[39m\u001b[33mValue\u001b[39m\u001b[33m'\u001b[39m, hue=\u001b[33m'\u001b[39m\u001b[33mLabel\u001b[39m\u001b[33m'\u001b[39m, estimator=\u001b[38;5;28;01mNone\u001b[39;00m)\n\u001b[32m     17\u001b[39m plt.title(\u001b[33m\"\u001b[39m\u001b[33mXraw Time Series by Label\u001b[39m\u001b[33m\"\u001b[39m)\n",
      "\u001b[36mFile \u001b[39m\u001b[32mc:\\Users\\E0819920\\NSTSC\\Codes\\.venv\\Lib\\site-packages\\pandas\\core\\frame.py:778\u001b[39m, in \u001b[36mDataFrame.__init__\u001b[39m\u001b[34m(self, data, index, columns, dtype, copy)\u001b[39m\n\u001b[32m    772\u001b[39m     mgr = \u001b[38;5;28mself\u001b[39m._init_mgr(\n\u001b[32m    773\u001b[39m         data, axes={\u001b[33m\"\u001b[39m\u001b[33mindex\u001b[39m\u001b[33m\"\u001b[39m: index, \u001b[33m\"\u001b[39m\u001b[33mcolumns\u001b[39m\u001b[33m\"\u001b[39m: columns}, dtype=dtype, copy=copy\n\u001b[32m    774\u001b[39m     )\n\u001b[32m    776\u001b[39m \u001b[38;5;28;01melif\u001b[39;00m \u001b[38;5;28misinstance\u001b[39m(data, \u001b[38;5;28mdict\u001b[39m):\n\u001b[32m    777\u001b[39m     \u001b[38;5;66;03m# GH#38939 de facto copy defaults to False only in non-dict cases\u001b[39;00m\n\u001b[32m--> \u001b[39m\u001b[32m778\u001b[39m     mgr = \u001b[43mdict_to_mgr\u001b[49m\u001b[43m(\u001b[49m\u001b[43mdata\u001b[49m\u001b[43m,\u001b[49m\u001b[43m \u001b[49m\u001b[43mindex\u001b[49m\u001b[43m,\u001b[49m\u001b[43m \u001b[49m\u001b[43mcolumns\u001b[49m\u001b[43m,\u001b[49m\u001b[43m \u001b[49m\u001b[43mdtype\u001b[49m\u001b[43m=\u001b[49m\u001b[43mdtype\u001b[49m\u001b[43m,\u001b[49m\u001b[43m \u001b[49m\u001b[43mcopy\u001b[49m\u001b[43m=\u001b[49m\u001b[43mcopy\u001b[49m\u001b[43m,\u001b[49m\u001b[43m \u001b[49m\u001b[43mtyp\u001b[49m\u001b[43m=\u001b[49m\u001b[43mmanager\u001b[49m\u001b[43m)\u001b[49m\n\u001b[32m    779\u001b[39m \u001b[38;5;28;01melif\u001b[39;00m \u001b[38;5;28misinstance\u001b[39m(data, ma.MaskedArray):\n\u001b[32m    780\u001b[39m     \u001b[38;5;28;01mfrom\u001b[39;00m\u001b[38;5;250m \u001b[39m\u001b[34;01mnumpy\u001b[39;00m\u001b[34;01m.\u001b[39;00m\u001b[34;01mma\u001b[39;00m\u001b[38;5;250m \u001b[39m\u001b[38;5;28;01mimport\u001b[39;00m mrecords\n",
      "\u001b[36mFile \u001b[39m\u001b[32mc:\\Users\\E0819920\\NSTSC\\Codes\\.venv\\Lib\\site-packages\\pandas\\core\\internals\\construction.py:503\u001b[39m, in \u001b[36mdict_to_mgr\u001b[39m\u001b[34m(data, index, columns, dtype, typ, copy)\u001b[39m\n\u001b[32m    499\u001b[39m     \u001b[38;5;28;01melse\u001b[39;00m:\n\u001b[32m    500\u001b[39m         \u001b[38;5;66;03m# dtype check to exclude e.g. range objects, scalars\u001b[39;00m\n\u001b[32m    501\u001b[39m         arrays = [x.copy() \u001b[38;5;28;01mif\u001b[39;00m \u001b[38;5;28mhasattr\u001b[39m(x, \u001b[33m\"\u001b[39m\u001b[33mdtype\u001b[39m\u001b[33m\"\u001b[39m) \u001b[38;5;28;01melse\u001b[39;00m x \u001b[38;5;28;01mfor\u001b[39;00m x \u001b[38;5;129;01min\u001b[39;00m arrays]\n\u001b[32m--> \u001b[39m\u001b[32m503\u001b[39m \u001b[38;5;28;01mreturn\u001b[39;00m \u001b[43marrays_to_mgr\u001b[49m\u001b[43m(\u001b[49m\u001b[43marrays\u001b[49m\u001b[43m,\u001b[49m\u001b[43m \u001b[49m\u001b[43mcolumns\u001b[49m\u001b[43m,\u001b[49m\u001b[43m \u001b[49m\u001b[43mindex\u001b[49m\u001b[43m,\u001b[49m\u001b[43m \u001b[49m\u001b[43mdtype\u001b[49m\u001b[43m=\u001b[49m\u001b[43mdtype\u001b[49m\u001b[43m,\u001b[49m\u001b[43m \u001b[49m\u001b[43mtyp\u001b[49m\u001b[43m=\u001b[49m\u001b[43mtyp\u001b[49m\u001b[43m,\u001b[49m\u001b[43m \u001b[49m\u001b[43mconsolidate\u001b[49m\u001b[43m=\u001b[49m\u001b[43mcopy\u001b[49m\u001b[43m)\u001b[49m\n",
      "\u001b[36mFile \u001b[39m\u001b[32mc:\\Users\\E0819920\\NSTSC\\Codes\\.venv\\Lib\\site-packages\\pandas\\core\\internals\\construction.py:114\u001b[39m, in \u001b[36marrays_to_mgr\u001b[39m\u001b[34m(arrays, columns, index, dtype, verify_integrity, typ, consolidate)\u001b[39m\n\u001b[32m    111\u001b[39m \u001b[38;5;28;01mif\u001b[39;00m verify_integrity:\n\u001b[32m    112\u001b[39m     \u001b[38;5;66;03m# figure out the index, if necessary\u001b[39;00m\n\u001b[32m    113\u001b[39m     \u001b[38;5;28;01mif\u001b[39;00m index \u001b[38;5;129;01mis\u001b[39;00m \u001b[38;5;28;01mNone\u001b[39;00m:\n\u001b[32m--> \u001b[39m\u001b[32m114\u001b[39m         index = \u001b[43m_extract_index\u001b[49m\u001b[43m(\u001b[49m\u001b[43marrays\u001b[49m\u001b[43m)\u001b[49m\n\u001b[32m    115\u001b[39m     \u001b[38;5;28;01melse\u001b[39;00m:\n\u001b[32m    116\u001b[39m         index = ensure_index(index)\n",
      "\u001b[36mFile \u001b[39m\u001b[32mc:\\Users\\E0819920\\NSTSC\\Codes\\.venv\\Lib\\site-packages\\pandas\\core\\internals\\construction.py:677\u001b[39m, in \u001b[36m_extract_index\u001b[39m\u001b[34m(data)\u001b[39m\n\u001b[32m    675\u001b[39m lengths = \u001b[38;5;28mlist\u001b[39m(\u001b[38;5;28mset\u001b[39m(raw_lengths))\n\u001b[32m    676\u001b[39m \u001b[38;5;28;01mif\u001b[39;00m \u001b[38;5;28mlen\u001b[39m(lengths) > \u001b[32m1\u001b[39m:\n\u001b[32m--> \u001b[39m\u001b[32m677\u001b[39m     \u001b[38;5;28;01mraise\u001b[39;00m \u001b[38;5;167;01mValueError\u001b[39;00m(\u001b[33m\"\u001b[39m\u001b[33mAll arrays must be of the same length\u001b[39m\u001b[33m\"\u001b[39m)\n\u001b[32m    679\u001b[39m \u001b[38;5;28;01mif\u001b[39;00m have_dicts:\n\u001b[32m    680\u001b[39m     \u001b[38;5;28;01mraise\u001b[39;00m \u001b[38;5;167;01mValueError\u001b[39;00m(\n\u001b[32m    681\u001b[39m         \u001b[33m\"\u001b[39m\u001b[33mMixing dicts with non-Series may lead to ambiguous ordering.\u001b[39m\u001b[33m\"\u001b[39m\n\u001b[32m    682\u001b[39m     )\n",
      "\u001b[31mValueError\u001b[39m: All arrays must be of the same length"
     ]
    }
   ],
   "source": [
    "import seaborn as sns\n",
    "import pandas as pd\n",
    "import numpy as np\n",
    "\n",
    "import matplotlib.pyplot as plt\n",
    "\n",
    "# Assume Xraw is of shape (N, T)\n",
    "N, T = Xraw.shape\n",
    "\n",
    "df = pd.DataFrame({\n",
    "    'Time': np.tile(np.arange(T), N),\n",
    "    'Value': Xder.flatten(),\n",
    "    'Label': np.repeat(ytrain, T)\n",
    "})\n",
    "\n",
    "sns.lineplot(data=df, x='Time', y='Value', hue='Label', estimator=None)\n",
    "plt.title(\"Xraw Time Series by Label\")\n",
    "plt.legend(title='Label')\n",
    "plt.show()\n"
   ]
  },
  {
   "cell_type": "code",
   "execution_count": 76,
   "id": "53c7b96f",
   "metadata": {},
   "outputs": [
    {
     "data": {
      "text/html": [
       "<div>\n",
       "<style scoped>\n",
       "    .dataframe tbody tr th:only-of-type {\n",
       "        vertical-align: middle;\n",
       "    }\n",
       "\n",
       "    .dataframe tbody tr th {\n",
       "        vertical-align: top;\n",
       "    }\n",
       "\n",
       "    .dataframe thead th {\n",
       "        text-align: right;\n",
       "    }\n",
       "</style>\n",
       "<table border=\"1\" class=\"dataframe\">\n",
       "  <thead>\n",
       "    <tr style=\"text-align: right;\">\n",
       "      <th></th>\n",
       "      <th>Time</th>\n",
       "      <th>Value</th>\n",
       "      <th>Label</th>\n",
       "    </tr>\n",
       "  </thead>\n",
       "  <tbody>\n",
       "    <tr>\n",
       "      <th>0</th>\n",
       "      <td>0</td>\n",
       "      <td>0.623614</td>\n",
       "      <td>1.0</td>\n",
       "    </tr>\n",
       "    <tr>\n",
       "      <th>1</th>\n",
       "      <td>1</td>\n",
       "      <td>0.623614</td>\n",
       "      <td>1.0</td>\n",
       "    </tr>\n",
       "    <tr>\n",
       "      <th>2</th>\n",
       "      <td>2</td>\n",
       "      <td>-1.184347</td>\n",
       "      <td>1.0</td>\n",
       "    </tr>\n",
       "    <tr>\n",
       "      <th>3</th>\n",
       "      <td>3</td>\n",
       "      <td>-1.125274</td>\n",
       "      <td>1.0</td>\n",
       "    </tr>\n",
       "    <tr>\n",
       "      <th>4</th>\n",
       "      <td>4</td>\n",
       "      <td>-1.283607</td>\n",
       "      <td>1.0</td>\n",
       "    </tr>\n",
       "    <tr>\n",
       "      <th>...</th>\n",
       "      <td>...</td>\n",
       "      <td>...</td>\n",
       "      <td>...</td>\n",
       "    </tr>\n",
       "    <tr>\n",
       "      <th>10235</th>\n",
       "      <td>507</td>\n",
       "      <td>0.885867</td>\n",
       "      <td>0.0</td>\n",
       "    </tr>\n",
       "    <tr>\n",
       "      <th>10236</th>\n",
       "      <td>508</td>\n",
       "      <td>0.748874</td>\n",
       "      <td>0.0</td>\n",
       "    </tr>\n",
       "    <tr>\n",
       "      <th>10237</th>\n",
       "      <td>509</td>\n",
       "      <td>0.167434</td>\n",
       "      <td>0.0</td>\n",
       "    </tr>\n",
       "    <tr>\n",
       "      <th>10238</th>\n",
       "      <td>510</td>\n",
       "      <td>-0.361498</td>\n",
       "      <td>0.0</td>\n",
       "    </tr>\n",
       "    <tr>\n",
       "      <th>10239</th>\n",
       "      <td>511</td>\n",
       "      <td>0.226255</td>\n",
       "      <td>0.0</td>\n",
       "    </tr>\n",
       "  </tbody>\n",
       "</table>\n",
       "<p>10240 rows × 3 columns</p>\n",
       "</div>"
      ],
      "text/plain": [
       "       Time     Value  Label\n",
       "0         0  0.623614    1.0\n",
       "1         1  0.623614    1.0\n",
       "2         2 -1.184347    1.0\n",
       "3         3 -1.125274    1.0\n",
       "4         4 -1.283607    1.0\n",
       "...     ...       ...    ...\n",
       "10235   507  0.885867    0.0\n",
       "10236   508  0.748874    0.0\n",
       "10237   509  0.167434    0.0\n",
       "10238   510 -0.361498    0.0\n",
       "10239   511  0.226255    0.0\n",
       "\n",
       "[10240 rows x 3 columns]"
      ]
     },
     "execution_count": 76,
     "metadata": {},
     "output_type": "execute_result"
    }
   ],
   "source": [
    "df"
   ]
  },
  {
   "cell_type": "code",
   "execution_count": 85,
   "id": "fff05b45",
   "metadata": {},
   "outputs": [
    {
     "data": {
      "text/plain": [
       "tensor(0.1174)"
      ]
     },
     "execution_count": 85,
     "metadata": {},
     "output_type": "execute_result"
    }
   ],
   "source": [
    "threshold_der[0, 456]"
   ]
  },
  {
   "cell_type": "code",
   "execution_count": 83,
   "id": "787a2663",
   "metadata": {},
   "outputs": [
    {
     "data": {
      "image/png": "[encoded data removed]",
      "text/plain": [
       "<Figure size 640x480 with 1 Axes>"
      ]
     },
     "metadata": {},
     "output_type": "display_data"
    }
   ],
   "source": [
    "df = pd.DataFrame({\n",
    "    'SampleIndex': np.arange(20),\n",
    "    'Value': Xder[:20, 456],\n",
    "    'Label': ytrain[:20]\n",
    "})\n",
    "\n",
    "sns.scatterplot(data=df, x='SampleIndex', y='Value', hue='Label', palette='deep')\n",
    "plt.title(\"Scatter Plot of 20 Samples (45th Column) from Xder\")\n",
    "plt.show()"
   ]
  },
  {
   "cell_type": "code",
   "execution_count": null,
   "id": "cdf3853d",
   "metadata": {},
   "outputs": [],
   "source": []
  },
  {
   "cell_type": "code",
   "execution_count": null,
   "id": "e026c950",
   "metadata": {},
   "outputs": [],
   "source": []
  },
  {
   "cell_type": "code",
   "execution_count": 65,
   "id": "f9caa244",
   "metadata": {},
   "outputs": [
    {
     "data": {
      "text/plain": [
       "(20, 1536)"
      ]
     },
     "execution_count": 65,
     "metadata": {},
     "output_type": "execute_result"
    }
   ],
   "source": [
    "Xtrain.shape"
   ]
  },
  {
   "cell_type": "code",
   "execution_count": null,
   "id": "b19401ef",
   "metadata": {},
   "outputs": [],
   "source": []
  },
  {
   "cell_type": "code",
   "execution_count": null,
   "id": "71689e4f",
   "metadata": {},
   "outputs": [],
   "source": [
    "import numpy as np\n",
    "parameters = extract_parameters(tree[0].bestmodel, 0)\n"
   ]
  },
  {
   "cell_type": "code",
   "execution_count": null,
   "id": "b77813f1",
   "metadata": {},
   "outputs": [],
   "source": [
    "parameters.keys()"
   ]
  },
  {
   "cell_type": "code",
   "execution_count": null,
   "id": "cb0b073b",
   "metadata": {},
   "outputs": [],
   "source": [
    "# np.max(parameters['A1'])\n",
    "for param_name, param_val in parameters.items():\n",
    "    max_val = np.max(param_val)\n",
    "    dims = param_val.shape\n",
    "    print(f\"{param_name}: Max = {max_val}, Dimensions = {dims}\")"
   ]
  },
  {
   "cell_type": "code",
   "execution_count": null,
   "id": "e982cb8f",
   "metadata": {},
   "outputs": [],
   "source": [
    "for idx, num in enumerate(parameters['A1'][0][:]):\n",
    "    if num > 3:\n",
    "        print(f\"Node {idx}: {num}\")"
   ]
  },
  {
   "cell_type": "code",
   "execution_count": null,
   "id": "e3779df9",
   "metadata": {},
   "outputs": [],
   "source": [
    "normal_A1 = A_sm1 / A_sm1.sum()\n",
    "print(normal_A1)\n"
   ]
  },
  {
   "cell_type": "code",
   "execution_count": null,
   "id": "c43d52bb",
   "metadata": {},
   "outputs": [],
   "source": [
    "A1"
   ]
  },
  {
   "cell_type": "code",
   "execution_count": null,
   "id": "43803006",
   "metadata": {},
   "outputs": [],
   "source": [
    "parameters['t1'].shape"
   ]
  },
  {
   "cell_type": "code",
   "execution_count": null,
   "id": "3509240a",
   "metadata": {},
   "outputs": [],
   "source": [
    "parameters['t1']"
   ]
  },
  {
   "cell_type": "code",
   "execution_count": 124,
   "id": "c9882854",
   "metadata": {},
   "outputs": [
    {
     "data": {
      "text/html": [
       "<div>\n",
       "<style scoped>\n",
       "    .dataframe tbody tr th:only-of-type {\n",
       "        vertical-align: middle;\n",
       "    }\n",
       "\n",
       "    .dataframe tbody tr th {\n",
       "        vertical-align: top;\n",
       "    }\n",
       "\n",
       "    .dataframe thead th {\n",
       "        text-align: right;\n",
       "    }\n",
       "</style>\n",
       "<table border=\"1\" class=\"dataframe\">\n",
       "  <thead>\n",
       "    <tr style=\"text-align: right;\">\n",
       "      <th></th>\n",
       "      <th>labels</th>\n",
       "      <th>t_1</th>\n",
       "      <th>t_2</th>\n",
       "      <th>t_3</th>\n",
       "      <th>t_4</th>\n",
       "      <th>t_5</th>\n",
       "      <th>t_6</th>\n",
       "      <th>t_7</th>\n",
       "      <th>t_8</th>\n",
       "      <th>t_9</th>\n",
       "      <th>...</th>\n",
       "      <th>t_503</th>\n",
       "      <th>t_504</th>\n",
       "      <th>t_505</th>\n",
       "      <th>t_506</th>\n",
       "      <th>t_507</th>\n",
       "      <th>t_508</th>\n",
       "      <th>t_509</th>\n",
       "      <th>t_510</th>\n",
       "      <th>t_511</th>\n",
       "      <th>t_512</th>\n",
       "    </tr>\n",
       "  </thead>\n",
       "  <tbody>\n",
       "    <tr>\n",
       "      <th>0</th>\n",
       "      <td>1</td>\n",
       "      <td>1.246789</td>\n",
       "      <td>1.174937</td>\n",
       "      <td>1.068819</td>\n",
       "      <td>0.964319</td>\n",
       "      <td>0.895219</td>\n",
       "      <td>0.790473</td>\n",
       "      <td>0.720885</td>\n",
       "      <td>0.688010</td>\n",
       "      <td>0.587988</td>\n",
       "      <td>...</td>\n",
       "      <td>0.553637</td>\n",
       "      <td>0.650269</td>\n",
       "      <td>0.718853</td>\n",
       "      <td>0.805717</td>\n",
       "      <td>0.865237</td>\n",
       "      <td>0.956820</td>\n",
       "      <td>1.057206</td>\n",
       "      <td>1.126484</td>\n",
       "      <td>1.221802</td>\n",
       "      <td>1.286670</td>\n",
       "    </tr>\n",
       "    <tr>\n",
       "      <th>1</th>\n",
       "      <td>1</td>\n",
       "      <td>0.825876</td>\n",
       "      <td>0.881314</td>\n",
       "      <td>0.818073</td>\n",
       "      <td>0.674205</td>\n",
       "      <td>0.546963</td>\n",
       "      <td>0.485933</td>\n",
       "      <td>0.375458</td>\n",
       "      <td>0.265118</td>\n",
       "      <td>0.154929</td>\n",
       "      <td>...</td>\n",
       "      <td>-0.168363</td>\n",
       "      <td>-0.093108</td>\n",
       "      <td>-0.001327</td>\n",
       "      <td>0.084480</td>\n",
       "      <td>0.192384</td>\n",
       "      <td>0.321336</td>\n",
       "      <td>0.450300</td>\n",
       "      <td>0.558373</td>\n",
       "      <td>0.646437</td>\n",
       "      <td>0.755256</td>\n",
       "    </tr>\n",
       "    <tr>\n",
       "      <th>2</th>\n",
       "      <td>1</td>\n",
       "      <td>2.132830</td>\n",
       "      <td>2.029373</td>\n",
       "      <td>1.940484</td>\n",
       "      <td>1.852180</td>\n",
       "      <td>1.799809</td>\n",
       "      <td>1.696186</td>\n",
       "      <td>1.610549</td>\n",
       "      <td>1.527823</td>\n",
       "      <td>1.439301</td>\n",
       "      <td>...</td>\n",
       "      <td>1.347620</td>\n",
       "      <td>1.431956</td>\n",
       "      <td>1.531713</td>\n",
       "      <td>1.612717</td>\n",
       "      <td>1.694647</td>\n",
       "      <td>1.796306</td>\n",
       "      <td>1.879709</td>\n",
       "      <td>1.962100</td>\n",
       "      <td>2.063447</td>\n",
       "      <td>2.149849</td>\n",
       "    </tr>\n",
       "    <tr>\n",
       "      <th>3</th>\n",
       "      <td>1</td>\n",
       "      <td>0.874412</td>\n",
       "      <td>0.923000</td>\n",
       "      <td>0.964207</td>\n",
       "      <td>0.944243</td>\n",
       "      <td>0.811593</td>\n",
       "      <td>0.663741</td>\n",
       "      <td>0.516367</td>\n",
       "      <td>0.352022</td>\n",
       "      <td>0.269166</td>\n",
       "      <td>...</td>\n",
       "      <td>0.172339</td>\n",
       "      <td>0.226525</td>\n",
       "      <td>0.233978</td>\n",
       "      <td>0.293486</td>\n",
       "      <td>0.360640</td>\n",
       "      <td>0.425044</td>\n",
       "      <td>0.586582</td>\n",
       "      <td>0.610465</td>\n",
       "      <td>0.679952</td>\n",
       "      <td>0.801962</td>\n",
       "    </tr>\n",
       "    <tr>\n",
       "      <th>4</th>\n",
       "      <td>1</td>\n",
       "      <td>0.972615</td>\n",
       "      <td>1.112579</td>\n",
       "      <td>1.183380</td>\n",
       "      <td>1.164712</td>\n",
       "      <td>1.028599</td>\n",
       "      <td>0.909215</td>\n",
       "      <td>0.851048</td>\n",
       "      <td>0.713570</td>\n",
       "      <td>0.577246</td>\n",
       "      <td>...</td>\n",
       "      <td>-0.225026</td>\n",
       "      <td>-0.182151</td>\n",
       "      <td>-0.062613</td>\n",
       "      <td>0.061609</td>\n",
       "      <td>0.187914</td>\n",
       "      <td>0.316121</td>\n",
       "      <td>0.446066</td>\n",
       "      <td>0.577601</td>\n",
       "      <td>0.707684</td>\n",
       "      <td>0.838184</td>\n",
       "    </tr>\n",
       "  </tbody>\n",
       "</table>\n",
       "<p>5 rows × 513 columns</p>\n",
       "</div>"
      ],
      "text/plain": [
       "   labels       t_1       t_2       t_3       t_4       t_5       t_6  \\\n",
       "0       1  1.246789  1.174937  1.068819  0.964319  0.895219  0.790473   \n",
       "1       1  0.825876  0.881314  0.818073  0.674205  0.546963  0.485933   \n",
       "2       1  2.132830  2.029373  1.940484  1.852180  1.799809  1.696186   \n",
       "3       1  0.874412  0.923000  0.964207  0.944243  0.811593  0.663741   \n",
       "4       1  0.972615  1.112579  1.183380  1.164712  1.028599  0.909215   \n",
       "\n",
       "        t_7       t_8       t_9  ...     t_503     t_504     t_505     t_506  \\\n",
       "0  0.720885  0.688010  0.587988  ...  0.553637  0.650269  0.718853  0.805717   \n",
       "1  0.375458  0.265118  0.154929  ... -0.168363 -0.093108 -0.001327  0.084480   \n",
       "2  1.610549  1.527823  1.439301  ...  1.347620  1.431956  1.531713  1.612717   \n",
       "3  0.516367  0.352022  0.269166  ...  0.172339  0.226525  0.233978  0.293486   \n",
       "4  0.851048  0.713570  0.577246  ... -0.225026 -0.182151 -0.062613  0.061609   \n",
       "\n",
       "      t_507     t_508     t_509     t_510     t_511     t_512  \n",
       "0  0.865237  0.956820  1.057206  1.126484  1.221802  1.286670  \n",
       "1  0.192384  0.321336  0.450300  0.558373  0.646437  0.755256  \n",
       "2  1.694647  1.796306  1.879709  1.962100  2.063447  2.149849  \n",
       "3  0.360640  0.425044  0.586582  0.610465  0.679952  0.801962  \n",
       "4  0.187914  0.316121  0.446066  0.577601  0.707684  0.838184  \n",
       "\n",
       "[5 rows x 513 columns]"
      ]
     },
     "execution_count": 124,
     "metadata": {},
     "output_type": "execute_result"
    }
   ],
   "source": [
    "df = pd.read_csv(\"../UCRArchive_2018/BeetleFly/BeetleFly_TRAIN.tsv\", sep = '\\t', header = None)\n",
    "df.columns = ['labels'] + [f\"t_{i+1}\" for i in range(df.shape[1]-1)]\n",
    "df.head()"
   ]
  },
  {
   "cell_type": "code",
   "execution_count": 125,
   "id": "276db83f",
   "metadata": {},
   "outputs": [
    {
     "data": {
      "text/plain": [
       "pandas.core.series.Series"
      ]
     },
     "execution_count": 125,
     "metadata": {},
     "output_type": "execute_result"
    }
   ],
   "source": [
    "classes = df.pop('labels')\n",
    "type(classes)"
   ]
  },
  {
   "cell_type": "code",
   "execution_count": 126,
   "id": "0a691cff",
   "metadata": {},
   "outputs": [
    {
     "data": {
      "text/plain": [
       "Index(['t_1', 't_2', 't_3', 't_4', 't_5', 't_6', 't_7', 't_8', 't_9', 't_10',\n",
       "       ...\n",
       "       't_503', 't_504', 't_505', 't_506', 't_507', 't_508', 't_509', 't_510',\n",
       "       't_511', 't_512'],\n",
       "      dtype='object', length=512)"
      ]
     },
     "execution_count": 126,
     "metadata": {},
     "output_type": "execute_result"
    }
   ],
   "source": [
    "df.columns"
   ]
  },
  {
   "cell_type": "code",
   "execution_count": 133,
   "id": "4a4f9989",
   "metadata": {},
   "outputs": [
    {
     "data": {
      "text/plain": [
       "array([[2.3640253],\n",
       "       [2.2816215],\n",
       "       [2.167464 ],\n",
       "       [2.1725102],\n",
       "       [2.3433617],\n",
       "       [2.1174287],\n",
       "       [2.029091 ],\n",
       "       [2.2419119],\n",
       "       [2.0961841],\n",
       "       [2.3189746],\n",
       "       [2.5055261],\n",
       "       [2.4042753],\n",
       "       [2.078076 ],\n",
       "       [2.4091278],\n",
       "       [2.3349795],\n",
       "       [2.3102576],\n",
       "       [2.2013812],\n",
       "       [2.1958942],\n",
       "       [2.0512292],\n",
       "       [2.0743473]])"
      ]
     },
     "execution_count": 133,
     "metadata": {},
     "output_type": "execute_result"
    }
   ],
   "source": [
    "np.max(df.values, axis=1, keepdims=True)"
   ]
  },
  {
   "cell_type": "code",
   "execution_count": 127,
   "id": "2f345ff4",
   "metadata": {},
   "outputs": [
    {
     "data": {
      "text/html": [
       "<div>\n",
       "<style scoped>\n",
       "    .dataframe tbody tr th:only-of-type {\n",
       "        vertical-align: middle;\n",
       "    }\n",
       "\n",
       "    .dataframe tbody tr th {\n",
       "        vertical-align: top;\n",
       "    }\n",
       "\n",
       "    .dataframe thead th {\n",
       "        text-align: right;\n",
       "    }\n",
       "</style>\n",
       "<table border=\"1\" class=\"dataframe\">\n",
       "  <thead>\n",
       "    <tr style=\"text-align: right;\">\n",
       "      <th></th>\n",
       "      <th>t_1</th>\n",
       "      <th>t_2</th>\n",
       "      <th>t_3</th>\n",
       "      <th>t_4</th>\n",
       "      <th>t_5</th>\n",
       "      <th>t_6</th>\n",
       "      <th>t_7</th>\n",
       "      <th>t_8</th>\n",
       "      <th>t_9</th>\n",
       "      <th>t_10</th>\n",
       "      <th>...</th>\n",
       "      <th>t_504</th>\n",
       "      <th>t_505</th>\n",
       "      <th>t_506</th>\n",
       "      <th>t_507</th>\n",
       "      <th>t_508</th>\n",
       "      <th>t_509</th>\n",
       "      <th>t_510</th>\n",
       "      <th>t_511</th>\n",
       "      <th>t_512</th>\n",
       "      <th>labels</th>\n",
       "    </tr>\n",
       "  </thead>\n",
       "  <tbody>\n",
       "    <tr>\n",
       "      <th>0</th>\n",
       "      <td>1.687396</td>\n",
       "      <td>1.615545</td>\n",
       "      <td>1.509426</td>\n",
       "      <td>1.404927</td>\n",
       "      <td>1.335826</td>\n",
       "      <td>1.231080</td>\n",
       "      <td>1.161493</td>\n",
       "      <td>1.128618</td>\n",
       "      <td>1.028596</td>\n",
       "      <td>0.959102</td>\n",
       "      <td>...</td>\n",
       "      <td>1.090877</td>\n",
       "      <td>1.159461</td>\n",
       "      <td>1.246325</td>\n",
       "      <td>1.305845</td>\n",
       "      <td>1.397428</td>\n",
       "      <td>1.497814</td>\n",
       "      <td>1.567091</td>\n",
       "      <td>1.662409</td>\n",
       "      <td>1.727278</td>\n",
       "      <td>1</td>\n",
       "    </tr>\n",
       "    <tr>\n",
       "      <th>1</th>\n",
       "      <td>1.256784</td>\n",
       "      <td>1.312222</td>\n",
       "      <td>1.248981</td>\n",
       "      <td>1.105112</td>\n",
       "      <td>0.977870</td>\n",
       "      <td>0.916840</td>\n",
       "      <td>0.806366</td>\n",
       "      <td>0.696026</td>\n",
       "      <td>0.585836</td>\n",
       "      <td>0.475810</td>\n",
       "      <td>...</td>\n",
       "      <td>0.337799</td>\n",
       "      <td>0.429581</td>\n",
       "      <td>0.515388</td>\n",
       "      <td>0.623292</td>\n",
       "      <td>0.752243</td>\n",
       "      <td>0.881207</td>\n",
       "      <td>0.989280</td>\n",
       "      <td>1.077345</td>\n",
       "      <td>1.186163</td>\n",
       "      <td>1</td>\n",
       "    </tr>\n",
       "    <tr>\n",
       "      <th>2</th>\n",
       "      <td>2.585512</td>\n",
       "      <td>2.482054</td>\n",
       "      <td>2.393165</td>\n",
       "      <td>2.304861</td>\n",
       "      <td>2.252491</td>\n",
       "      <td>2.148867</td>\n",
       "      <td>2.063231</td>\n",
       "      <td>1.980505</td>\n",
       "      <td>1.891982</td>\n",
       "      <td>1.789498</td>\n",
       "      <td>...</td>\n",
       "      <td>1.884637</td>\n",
       "      <td>1.984394</td>\n",
       "      <td>2.065398</td>\n",
       "      <td>2.147329</td>\n",
       "      <td>2.248988</td>\n",
       "      <td>2.332390</td>\n",
       "      <td>2.414781</td>\n",
       "      <td>2.516128</td>\n",
       "      <td>2.602530</td>\n",
       "      <td>1</td>\n",
       "    </tr>\n",
       "    <tr>\n",
       "      <th>3</th>\n",
       "      <td>1.313273</td>\n",
       "      <td>1.361861</td>\n",
       "      <td>1.403068</td>\n",
       "      <td>1.383103</td>\n",
       "      <td>1.250454</td>\n",
       "      <td>1.102602</td>\n",
       "      <td>0.955227</td>\n",
       "      <td>0.790883</td>\n",
       "      <td>0.708027</td>\n",
       "      <td>0.710766</td>\n",
       "      <td>...</td>\n",
       "      <td>0.665386</td>\n",
       "      <td>0.672839</td>\n",
       "      <td>0.732347</td>\n",
       "      <td>0.799501</td>\n",
       "      <td>0.863905</td>\n",
       "      <td>1.025443</td>\n",
       "      <td>1.049326</td>\n",
       "      <td>1.118813</td>\n",
       "      <td>1.240823</td>\n",
       "      <td>1</td>\n",
       "    </tr>\n",
       "    <tr>\n",
       "      <th>4</th>\n",
       "      <td>1.463192</td>\n",
       "      <td>1.603156</td>\n",
       "      <td>1.673957</td>\n",
       "      <td>1.655289</td>\n",
       "      <td>1.519176</td>\n",
       "      <td>1.399792</td>\n",
       "      <td>1.341625</td>\n",
       "      <td>1.204148</td>\n",
       "      <td>1.067823</td>\n",
       "      <td>0.936275</td>\n",
       "      <td>...</td>\n",
       "      <td>0.308426</td>\n",
       "      <td>0.427964</td>\n",
       "      <td>0.552186</td>\n",
       "      <td>0.678491</td>\n",
       "      <td>0.806698</td>\n",
       "      <td>0.936643</td>\n",
       "      <td>1.068178</td>\n",
       "      <td>1.198261</td>\n",
       "      <td>1.328761</td>\n",
       "      <td>1</td>\n",
       "    </tr>\n",
       "  </tbody>\n",
       "</table>\n",
       "<p>5 rows × 513 columns</p>\n",
       "</div>"
      ],
      "text/plain": [
       "        t_1       t_2       t_3       t_4       t_5       t_6       t_7  \\\n",
       "0  1.687396  1.615545  1.509426  1.404927  1.335826  1.231080  1.161493   \n",
       "1  1.256784  1.312222  1.248981  1.105112  0.977870  0.916840  0.806366   \n",
       "2  2.585512  2.482054  2.393165  2.304861  2.252491  2.148867  2.063231   \n",
       "3  1.313273  1.361861  1.403068  1.383103  1.250454  1.102602  0.955227   \n",
       "4  1.463192  1.603156  1.673957  1.655289  1.519176  1.399792  1.341625   \n",
       "\n",
       "        t_8       t_9      t_10  ...     t_504     t_505     t_506     t_507  \\\n",
       "0  1.128618  1.028596  0.959102  ...  1.090877  1.159461  1.246325  1.305845   \n",
       "1  0.696026  0.585836  0.475810  ...  0.337799  0.429581  0.515388  0.623292   \n",
       "2  1.980505  1.891982  1.789498  ...  1.884637  1.984394  2.065398  2.147329   \n",
       "3  0.790883  0.708027  0.710766  ...  0.665386  0.672839  0.732347  0.799501   \n",
       "4  1.204148  1.067823  0.936275  ...  0.308426  0.427964  0.552186  0.678491   \n",
       "\n",
       "      t_508     t_509     t_510     t_511     t_512  labels  \n",
       "0  1.397428  1.497814  1.567091  1.662409  1.727278       1  \n",
       "1  0.752243  0.881207  0.989280  1.077345  1.186163       1  \n",
       "2  2.248988  2.332390  2.414781  2.516128  2.602530       1  \n",
       "3  0.863905  1.025443  1.049326  1.118813  1.240823       1  \n",
       "4  0.806698  0.936643  1.068178  1.198261  1.328761       1  \n",
       "\n",
       "[5 rows x 513 columns]"
      ]
     },
     "execution_count": 127,
     "metadata": {},
     "output_type": "execute_result"
    }
   ],
   "source": [
    "df_norm = pd.DataFrame(df.values - np.min(df.values, axis = 1, keepdims=True) / (np.max(df.values, axis = 1, keepdims=True) - np.min(df.values, axis = 1, keepdims=True)),  columns = df.columns, index= df.index)\n",
    "df_norm['labels'] = classes\n",
    "df_norm.head()"
   ]
  },
  {
   "cell_type": "code",
   "execution_count": 119,
   "id": "b392a1b2",
   "metadata": {},
   "outputs": [
    {
     "data": {
      "text/html": [
       "<div>\n",
       "<style scoped>\n",
       "    .dataframe tbody tr th:only-of-type {\n",
       "        vertical-align: middle;\n",
       "    }\n",
       "\n",
       "    .dataframe tbody tr th {\n",
       "        vertical-align: top;\n",
       "    }\n",
       "\n",
       "    .dataframe thead th {\n",
       "        text-align: right;\n",
       "    }\n",
       "</style>\n",
       "<table border=\"1\" class=\"dataframe\">\n",
       "  <thead>\n",
       "    <tr style=\"text-align: right;\">\n",
       "      <th></th>\n",
       "      <th>t_1</th>\n",
       "      <th>t_2</th>\n",
       "      <th>t_3</th>\n",
       "      <th>t_4</th>\n",
       "      <th>t_5</th>\n",
       "      <th>t_6</th>\n",
       "      <th>t_7</th>\n",
       "      <th>t_8</th>\n",
       "      <th>t_9</th>\n",
       "      <th>t_10</th>\n",
       "      <th>...</th>\n",
       "      <th>t_505</th>\n",
       "      <th>t_506</th>\n",
       "      <th>t_507</th>\n",
       "      <th>t_508</th>\n",
       "      <th>t_509</th>\n",
       "      <th>t_510</th>\n",
       "      <th>t_511</th>\n",
       "      <th>t_512</th>\n",
       "      <th>labels</th>\n",
       "      <th>signal_id</th>\n",
       "    </tr>\n",
       "  </thead>\n",
       "  <tbody>\n",
       "    <tr>\n",
       "      <th>0</th>\n",
       "      <td>1.687396</td>\n",
       "      <td>1.615545</td>\n",
       "      <td>1.509426</td>\n",
       "      <td>1.404927</td>\n",
       "      <td>1.335826</td>\n",
       "      <td>1.231080</td>\n",
       "      <td>1.161493</td>\n",
       "      <td>1.128618</td>\n",
       "      <td>1.028596</td>\n",
       "      <td>0.959102</td>\n",
       "      <td>...</td>\n",
       "      <td>1.159461</td>\n",
       "      <td>1.246325</td>\n",
       "      <td>1.305845</td>\n",
       "      <td>1.397428</td>\n",
       "      <td>1.497814</td>\n",
       "      <td>1.567091</td>\n",
       "      <td>1.662409</td>\n",
       "      <td>1.727278</td>\n",
       "      <td>1</td>\n",
       "      <td>signal_1</td>\n",
       "    </tr>\n",
       "    <tr>\n",
       "      <th>1</th>\n",
       "      <td>1.256784</td>\n",
       "      <td>1.312222</td>\n",
       "      <td>1.248981</td>\n",
       "      <td>1.105112</td>\n",
       "      <td>0.977870</td>\n",
       "      <td>0.916840</td>\n",
       "      <td>0.806366</td>\n",
       "      <td>0.696026</td>\n",
       "      <td>0.585836</td>\n",
       "      <td>0.475810</td>\n",
       "      <td>...</td>\n",
       "      <td>0.429581</td>\n",
       "      <td>0.515388</td>\n",
       "      <td>0.623292</td>\n",
       "      <td>0.752243</td>\n",
       "      <td>0.881207</td>\n",
       "      <td>0.989280</td>\n",
       "      <td>1.077345</td>\n",
       "      <td>1.186163</td>\n",
       "      <td>1</td>\n",
       "      <td>signal_2</td>\n",
       "    </tr>\n",
       "    <tr>\n",
       "      <th>2</th>\n",
       "      <td>2.585512</td>\n",
       "      <td>2.482054</td>\n",
       "      <td>2.393165</td>\n",
       "      <td>2.304861</td>\n",
       "      <td>2.252491</td>\n",
       "      <td>2.148867</td>\n",
       "      <td>2.063231</td>\n",
       "      <td>1.980505</td>\n",
       "      <td>1.891982</td>\n",
       "      <td>1.789498</td>\n",
       "      <td>...</td>\n",
       "      <td>1.984394</td>\n",
       "      <td>2.065398</td>\n",
       "      <td>2.147329</td>\n",
       "      <td>2.248988</td>\n",
       "      <td>2.332390</td>\n",
       "      <td>2.414781</td>\n",
       "      <td>2.516128</td>\n",
       "      <td>2.602530</td>\n",
       "      <td>1</td>\n",
       "      <td>signal_3</td>\n",
       "    </tr>\n",
       "    <tr>\n",
       "      <th>3</th>\n",
       "      <td>1.313273</td>\n",
       "      <td>1.361861</td>\n",
       "      <td>1.403068</td>\n",
       "      <td>1.383103</td>\n",
       "      <td>1.250454</td>\n",
       "      <td>1.102602</td>\n",
       "      <td>0.955227</td>\n",
       "      <td>0.790883</td>\n",
       "      <td>0.708027</td>\n",
       "      <td>0.710766</td>\n",
       "      <td>...</td>\n",
       "      <td>0.672839</td>\n",
       "      <td>0.732347</td>\n",
       "      <td>0.799501</td>\n",
       "      <td>0.863905</td>\n",
       "      <td>1.025443</td>\n",
       "      <td>1.049326</td>\n",
       "      <td>1.118813</td>\n",
       "      <td>1.240823</td>\n",
       "      <td>1</td>\n",
       "      <td>signal_4</td>\n",
       "    </tr>\n",
       "    <tr>\n",
       "      <th>4</th>\n",
       "      <td>1.463192</td>\n",
       "      <td>1.603156</td>\n",
       "      <td>1.673957</td>\n",
       "      <td>1.655289</td>\n",
       "      <td>1.519176</td>\n",
       "      <td>1.399792</td>\n",
       "      <td>1.341625</td>\n",
       "      <td>1.204148</td>\n",
       "      <td>1.067823</td>\n",
       "      <td>0.936275</td>\n",
       "      <td>...</td>\n",
       "      <td>0.427964</td>\n",
       "      <td>0.552186</td>\n",
       "      <td>0.678491</td>\n",
       "      <td>0.806698</td>\n",
       "      <td>0.936643</td>\n",
       "      <td>1.068178</td>\n",
       "      <td>1.198261</td>\n",
       "      <td>1.328761</td>\n",
       "      <td>1</td>\n",
       "      <td>signal_5</td>\n",
       "    </tr>\n",
       "  </tbody>\n",
       "</table>\n",
       "<p>5 rows × 514 columns</p>\n",
       "</div>"
      ],
      "text/plain": [
       "        t_1       t_2       t_3       t_4       t_5       t_6       t_7  \\\n",
       "0  1.687396  1.615545  1.509426  1.404927  1.335826  1.231080  1.161493   \n",
       "1  1.256784  1.312222  1.248981  1.105112  0.977870  0.916840  0.806366   \n",
       "2  2.585512  2.482054  2.393165  2.304861  2.252491  2.148867  2.063231   \n",
       "3  1.313273  1.361861  1.403068  1.383103  1.250454  1.102602  0.955227   \n",
       "4  1.463192  1.603156  1.673957  1.655289  1.519176  1.399792  1.341625   \n",
       "\n",
       "        t_8       t_9      t_10  ...     t_505     t_506     t_507     t_508  \\\n",
       "0  1.128618  1.028596  0.959102  ...  1.159461  1.246325  1.305845  1.397428   \n",
       "1  0.696026  0.585836  0.475810  ...  0.429581  0.515388  0.623292  0.752243   \n",
       "2  1.980505  1.891982  1.789498  ...  1.984394  2.065398  2.147329  2.248988   \n",
       "3  0.790883  0.708027  0.710766  ...  0.672839  0.732347  0.799501  0.863905   \n",
       "4  1.204148  1.067823  0.936275  ...  0.427964  0.552186  0.678491  0.806698   \n",
       "\n",
       "      t_509     t_510     t_511     t_512  labels  signal_id  \n",
       "0  1.497814  1.567091  1.662409  1.727278       1   signal_1  \n",
       "1  0.881207  0.989280  1.077345  1.186163       1   signal_2  \n",
       "2  2.332390  2.414781  2.516128  2.602530       1   signal_3  \n",
       "3  1.025443  1.049326  1.118813  1.240823       1   signal_4  \n",
       "4  0.936643  1.068178  1.198261  1.328761       1   signal_5  \n",
       "\n",
       "[5 rows x 514 columns]"
      ]
     },
     "execution_count": 119,
     "metadata": {},
     "output_type": "execute_result"
    }
   ],
   "source": [
    "df_norm['signal_id'] = [f\"signal_{i+1}\" for i in range(len(df_norm))]\n",
    "df_norm.head(5)"
   ]
  },
  {
   "cell_type": "code",
   "execution_count": 123,
   "id": "5414249e",
   "metadata": {},
   "outputs": [
    {
     "data": {
      "text/html": [
       "<div>\n",
       "<style scoped>\n",
       "    .dataframe tbody tr th:only-of-type {\n",
       "        vertical-align: middle;\n",
       "    }\n",
       "\n",
       "    .dataframe tbody tr th {\n",
       "        vertical-align: top;\n",
       "    }\n",
       "\n",
       "    .dataframe thead th {\n",
       "        text-align: right;\n",
       "    }\n",
       "</style>\n",
       "<table border=\"1\" class=\"dataframe\">\n",
       "  <thead>\n",
       "    <tr style=\"text-align: right;\">\n",
       "      <th></th>\n",
       "      <th>labels</th>\n",
       "      <th>signal_id</th>\n",
       "      <th>Timesteps</th>\n",
       "      <th>Values</th>\n",
       "    </tr>\n",
       "  </thead>\n",
       "  <tbody>\n",
       "    <tr>\n",
       "      <th>0</th>\n",
       "      <td>1</td>\n",
       "      <td>signal_1</td>\n",
       "      <td>1</td>\n",
       "      <td>1.687396</td>\n",
       "    </tr>\n",
       "    <tr>\n",
       "      <th>1</th>\n",
       "      <td>1</td>\n",
       "      <td>signal_2</td>\n",
       "      <td>1</td>\n",
       "      <td>1.256784</td>\n",
       "    </tr>\n",
       "    <tr>\n",
       "      <th>2</th>\n",
       "      <td>1</td>\n",
       "      <td>signal_3</td>\n",
       "      <td>1</td>\n",
       "      <td>2.585512</td>\n",
       "    </tr>\n",
       "    <tr>\n",
       "      <th>3</th>\n",
       "      <td>1</td>\n",
       "      <td>signal_4</td>\n",
       "      <td>1</td>\n",
       "      <td>1.313273</td>\n",
       "    </tr>\n",
       "    <tr>\n",
       "      <th>4</th>\n",
       "      <td>1</td>\n",
       "      <td>signal_5</td>\n",
       "      <td>1</td>\n",
       "      <td>1.463192</td>\n",
       "    </tr>\n",
       "    <tr>\n",
       "      <th>5</th>\n",
       "      <td>1</td>\n",
       "      <td>signal_6</td>\n",
       "      <td>1</td>\n",
       "      <td>1.163281</td>\n",
       "    </tr>\n",
       "    <tr>\n",
       "      <th>6</th>\n",
       "      <td>1</td>\n",
       "      <td>signal_7</td>\n",
       "      <td>1</td>\n",
       "      <td>2.508539</td>\n",
       "    </tr>\n",
       "    <tr>\n",
       "      <th>7</th>\n",
       "      <td>1</td>\n",
       "      <td>signal_8</td>\n",
       "      <td>1</td>\n",
       "      <td>1.040898</td>\n",
       "    </tr>\n",
       "    <tr>\n",
       "      <th>8</th>\n",
       "      <td>1</td>\n",
       "      <td>signal_9</td>\n",
       "      <td>1</td>\n",
       "      <td>2.529869</td>\n",
       "    </tr>\n",
       "    <tr>\n",
       "      <th>9</th>\n",
       "      <td>1</td>\n",
       "      <td>signal_10</td>\n",
       "      <td>1</td>\n",
       "      <td>2.226336</td>\n",
       "    </tr>\n",
       "    <tr>\n",
       "      <th>10</th>\n",
       "      <td>2</td>\n",
       "      <td>signal_11</td>\n",
       "      <td>1</td>\n",
       "      <td>2.899627</td>\n",
       "    </tr>\n",
       "    <tr>\n",
       "      <th>11</th>\n",
       "      <td>2</td>\n",
       "      <td>signal_12</td>\n",
       "      <td>1</td>\n",
       "      <td>0.581127</td>\n",
       "    </tr>\n",
       "    <tr>\n",
       "      <th>12</th>\n",
       "      <td>2</td>\n",
       "      <td>signal_13</td>\n",
       "      <td>1</td>\n",
       "      <td>2.591394</td>\n",
       "    </tr>\n",
       "    <tr>\n",
       "      <th>13</th>\n",
       "      <td>2</td>\n",
       "      <td>signal_14</td>\n",
       "      <td>1</td>\n",
       "      <td>1.471582</td>\n",
       "    </tr>\n",
       "    <tr>\n",
       "      <th>14</th>\n",
       "      <td>2</td>\n",
       "      <td>signal_15</td>\n",
       "      <td>1</td>\n",
       "      <td>2.717488</td>\n",
       "    </tr>\n",
       "    <tr>\n",
       "      <th>15</th>\n",
       "      <td>2</td>\n",
       "      <td>signal_16</td>\n",
       "      <td>1</td>\n",
       "      <td>2.783570</td>\n",
       "    </tr>\n",
       "    <tr>\n",
       "      <th>16</th>\n",
       "      <td>2</td>\n",
       "      <td>signal_17</td>\n",
       "      <td>1</td>\n",
       "      <td>2.013202</td>\n",
       "    </tr>\n",
       "    <tr>\n",
       "      <th>17</th>\n",
       "      <td>2</td>\n",
       "      <td>signal_18</td>\n",
       "      <td>1</td>\n",
       "      <td>2.650527</td>\n",
       "    </tr>\n",
       "    <tr>\n",
       "      <th>18</th>\n",
       "      <td>2</td>\n",
       "      <td>signal_19</td>\n",
       "      <td>1</td>\n",
       "      <td>2.471305</td>\n",
       "    </tr>\n",
       "    <tr>\n",
       "      <th>19</th>\n",
       "      <td>2</td>\n",
       "      <td>signal_20</td>\n",
       "      <td>1</td>\n",
       "      <td>1.949775</td>\n",
       "    </tr>\n",
       "    <tr>\n",
       "      <th>20</th>\n",
       "      <td>1</td>\n",
       "      <td>signal_1</td>\n",
       "      <td>2</td>\n",
       "      <td>1.615545</td>\n",
       "    </tr>\n",
       "    <tr>\n",
       "      <th>21</th>\n",
       "      <td>1</td>\n",
       "      <td>signal_2</td>\n",
       "      <td>2</td>\n",
       "      <td>1.312222</td>\n",
       "    </tr>\n",
       "    <tr>\n",
       "      <th>22</th>\n",
       "      <td>1</td>\n",
       "      <td>signal_3</td>\n",
       "      <td>2</td>\n",
       "      <td>2.482054</td>\n",
       "    </tr>\n",
       "    <tr>\n",
       "      <th>23</th>\n",
       "      <td>1</td>\n",
       "      <td>signal_4</td>\n",
       "      <td>2</td>\n",
       "      <td>1.361861</td>\n",
       "    </tr>\n",
       "    <tr>\n",
       "      <th>24</th>\n",
       "      <td>1</td>\n",
       "      <td>signal_5</td>\n",
       "      <td>2</td>\n",
       "      <td>1.603156</td>\n",
       "    </tr>\n",
       "  </tbody>\n",
       "</table>\n",
       "</div>"
      ],
      "text/plain": [
       "    labels  signal_id  Timesteps    Values\n",
       "0        1   signal_1          1  1.687396\n",
       "1        1   signal_2          1  1.256784\n",
       "2        1   signal_3          1  2.585512\n",
       "3        1   signal_4          1  1.313273\n",
       "4        1   signal_5          1  1.463192\n",
       "5        1   signal_6          1  1.163281\n",
       "6        1   signal_7          1  2.508539\n",
       "7        1   signal_8          1  1.040898\n",
       "8        1   signal_9          1  2.529869\n",
       "9        1  signal_10          1  2.226336\n",
       "10       2  signal_11          1  2.899627\n",
       "11       2  signal_12          1  0.581127\n",
       "12       2  signal_13          1  2.591394\n",
       "13       2  signal_14          1  1.471582\n",
       "14       2  signal_15          1  2.717488\n",
       "15       2  signal_16          1  2.783570\n",
       "16       2  signal_17          1  2.013202\n",
       "17       2  signal_18          1  2.650527\n",
       "18       2  signal_19          1  2.471305\n",
       "19       2  signal_20          1  1.949775\n",
       "20       1   signal_1          2  1.615545\n",
       "21       1   signal_2          2  1.312222\n",
       "22       1   signal_3          2  2.482054\n",
       "23       1   signal_4          2  1.361861\n",
       "24       1   signal_5          2  1.603156"
      ]
     },
     "execution_count": 123,
     "metadata": {},
     "output_type": "execute_result"
    }
   ],
   "source": [
    "df_long = df_norm.melt(id_vars = ['labels', 'signal_id'], value_vars= [f\"t_{i+1}\" for i in range(512)], var_name = 'Timesteps', value_name= \"Values\")\n",
    "df_long.Timesteps = df_long.Timesteps.str.replace('t_', '').astype(int)\n",
    "df_long.head(25)"
   ]
  },
  {
   "cell_type": "code",
   "execution_count": null,
   "id": "1687e511",
   "metadata": {},
   "outputs": [],
   "source": []
  }
 ],
 "metadata": {
  "kernelspec": {
   "display_name": ".venv",
   "language": "python",
   "name": "python3"
  },
  "language_info": {
   "codemirror_mode": {
    "name": "ipython",
    "version": 3
   },
   "file_extension": ".py",
   "mimetype": "text/x-python",
   "name": "python",
   "nbconvert_exporter": "python",
   "pygments_lexer": "ipython3",
   "version": "3.13.1"
  }
 },
 "nbformat": 4,
 "nbformat_minor": 5
}
